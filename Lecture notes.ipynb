{
 "cells": [
  {
   "cell_type": "markdown",
   "metadata": {},
   "source": [
    "## Learning Objectives\n",
    "\n",
    "After this session (+ exercises) the student will be able to:\n",
    "\n",
    "  * Understand how research analyzing VCS histories collects the underlying data.\n",
    "  * Export the history from Git repositories.\n",
    "  * Apply scripts and programs in various languages to clean and pre-process the exported data.\n",
    "  * Apply scripts and programs in various languages to analyze Git VCS data with respect to certain hypotheses/research questions.\n",
    "  * Interpret the analysis results to either better understand current practices or to suggest actionable changes of current practices in software engineering teams."
   ]
  },
  {
   "cell_type": "markdown",
   "metadata": {},
   "source": [
    "# What are we doing today?\n",
    "\n",
    "## Motivation\n",
    "\n",
    "C. Bird et al. [_\"Don't Touch My Code! Examining the Effects of Ownership on Software Quality\"_]( https://www.microsoft.com/en-us/research/wp-content/uploads/2016/02/bird2011dtm.pdf)"
   ]
  },
  {
   "cell_type": "code",
   "execution_count": null,
   "metadata": {},
   "outputs": [],
   "source": [
    "%%bash\n",
    "wget https://www.microsoft.com/en-us/research/wp-content/uploads/2016/02/bird2011dtm.pdf"
   ]
  },
  {
   "cell_type": "code",
   "execution_count": null,
   "metadata": {},
   "outputs": [],
   "source": [
    "from IPython.display import IFrame\n",
    "\n",
    "url = './bird2011dtm.pdf'\n",
    "IFrame(url, width='100%', height=500)"
   ]
  },
  {
   "cell_type": "markdown",
   "metadata": {},
   "source": [
    "  > \"How much does ownership affect quality?\"\n",
    "  \n",
    "  \n",
    "  > Ownership is a general term used to describe whether one person has responsibility for a software component, or if there is no one clearly responsible developer.\n",
    "  >\n",
    "  > Within Microsoft, we have found that when more people work on a binary, it has more failures\n",
    "  \n",
    "  \n",
    "  > Interestingly, unlike some aspects of software which are known to be related to defects such as dependency complexity, or size, ownership is something that can be deliberately changed by modifying processes and policies. Thus, the answer to the question: “How much does ownership affect quality?” is important as it is actionable. Managers and team leads can make better decisions about how to govern a project by knowing the answer. \n",
    "  \n",
    "  \n",
    "  \n",
    "  > The higher the ownership proportion of the main developer, the fewer defects in the code. Crime Scene\n",
    "  \n",
    "  \n",
    "The big question is now: \"Alright, I can read the article and understand the experiment setup and results, but how would I run a similar experiment in my organization?\""
   ]
  },
  {
   "cell_type": "markdown",
   "metadata": {},
   "source": [
    "# What are we doing today?\n",
    "\n",
    "## What are we really doing now?\n",
    "\n",
    "We will -on a running example- perform a set of analyses of data from Git, a particular version control system (VCS). Everything in this lecture should be -with minor adaptations- applicable to other VCS, such as Mercurial, Microsoft TFS, etc.\n",
    "\n",
    "You will learn how to:\n",
    "\n",
    "  * Export the history from Git repositories.\n",
    "  * Apply scripts and programs in various languages to clean and pre-process the exported data.\n",
    "  * Apply scripts and programs in various languages to analyze Git VCS data with respect to certain hypotheses/research questions.\n",
    "  * Interpret the analysis results to either better understand current practices or to suggest actionable changes of current practices in software engineering teams.\n",
    "  \n",
    "## Working together now\n",
    "\n",
    "As you have various operating systems installed on your computers and since I cannot support all of these in such a short time, we will work together on a remotely hosted virtual machine Linux environment.\n",
    "\n",
    "Navigate to: https://github.com/HelgeCPH/2019_ase_behavioural_analysis and press the button that says `launch binder`. In case you have a Linux or Unix installed on your computer you can run everything on your local machine right away."
   ]
  },
  {
   "cell_type": "markdown",
   "metadata": {},
   "source": [
    "--------------------------------------------------------\n",
    "\n",
    "\n",
    "# Getting the VCS Data\n",
    "\n",
    "In the lecture we use [Apache Airflow](https://airflow.apache.org) as an example software system.\n",
    "\n",
    "  > Airflow is a platform to programmatically author, schedule and monitor workflows.\n",
    "\n",
    "The project is accessible on Github: https://github.com/apache/airflow. That is, we make use of the Git VCS during this lecture."
   ]
  },
  {
   "cell_type": "code",
   "execution_count": null,
   "metadata": {},
   "outputs": [],
   "source": [
    "%%bash\n",
    "git clone https://github.com/apache/airflow.git"
   ]
  },
  {
   "cell_type": "code",
   "execution_count": null,
   "metadata": {},
   "outputs": [],
   "source": [
    "%%bash\n",
    "ls -ltrh airflow/"
   ]
  },
  {
   "cell_type": "markdown",
   "metadata": {},
   "source": [
    "## Moving back in time \n",
    "\n",
    "We want to all work on the same \"view\" of the software so let's go back to the state of the repository on Monday Sept. 23rd."
   ]
  },
  {
   "cell_type": "code",
   "execution_count": null,
   "metadata": {},
   "outputs": [],
   "source": [
    "%%bash\n",
    "cd airflow\n",
    "git checkout $(git rev-list -n 1 --before=\"2019-09-23\" master)"
   ]
  },
  {
   "cell_type": "markdown",
   "metadata": {
    "slideshow": {
     "slide_type": "slide"
    }
   },
   "source": [
    "If you want to perform an analyzes for a certain period only, you can add the `--after` switch too."
   ]
  },
  {
   "cell_type": "markdown",
   "metadata": {},
   "source": [
    "## The revisions of a software system, organizational history\n",
    "\n",
    "```bash\n",
    "git log\n",
    "```\n",
    "\n",
    "Note, you have to switch into the directory of the repository that you want to study.\n",
    "\n",
    "### What do we see and how to read it?\n",
    "\n",
    "```\n",
    "commit 30c442c9b8f4f98774841308a98f0e5ad1bce6a6 (HEAD)\n",
    "Author: Jarek Potiuk <jarek.potiuk@polidea.com>\n",
    "Date:   Sun Sep 22 18:54:03 2019 +0100\n",
    "\n",
    "    [AIRFLOW-5537] Yamllint is not needed as dependency on host\n",
    "\n",
    "    It used to be needed for pre-commits but is not needed any more\n",
    "    as it is automatically installed as dependency in the virtualenv\n",
    "    created by pre-commit\n",
    "\n",
    "commit f63e4e37d00e52165d7a241626e207e192aae6f2\n",
    "Author: Jarek Potiuk <jarek.potiuk@polidea.com>\n",
    "Date:   Sun Sep 22 18:51:54 2019 +0100\n",
    "\n",
    "    [AIRFLOW-5536] Better handling of temporary output files\n",
    "\n",
    "commit 511615c884a09cd95d1e74a748cc10d6d9e9013d\n",
    "Author: Jarek Potiuk <jarek.potiuk@polidea.com>\n",
    "Date:   Sun Sep 22 18:47:34 2019 +0100\n",
    "\n",
    "    [AIRFLOW-5535] Fix name of VERBOSE parameter\n",
    "```"
   ]
  },
  {
   "cell_type": "markdown",
   "metadata": {},
   "source": [
    "Note, we are looking on the master branch only at the moment. That is you see only commit messages on that single branch (we will talk more about these in three weeks).\n",
    "\n",
    "```bash\n",
    "git log --all\n",
    "```\n",
    "\n",
    "```bash\n",
    "git log --branches --remotes --tags --graph --oneline --decorate\n",
    "```\n",
    "\n",
    "\n",
    "### What are all these switches?\n",
    "\n",
    "You can read the help of `git log` via:\n",
    "\n",
    "```bash\n",
    "git help log\n",
    "```"
   ]
  },
  {
   "cell_type": "markdown",
   "metadata": {},
   "source": [
    "All the `git log`s we looked at so far are meant for humans to read and interpret.\n",
    "\n",
    "However, we want to automatically analyze the logs to infer information out of it that is hidden in the logs."
   ]
  },
  {
   "cell_type": "markdown",
   "metadata": {},
   "source": [
    "---------------------------------------------\n",
    "\n",
    "# Collecting, Cleansing, and Pre-processing the Data\n",
    "\n",
    "## Exporting the `git log` into a machine readable format\n",
    "\n",
    "Read the `PRETTY FORMATS` section of the `git log` help for possible placeholders in the format string"
   ]
  },
  {
   "cell_type": "code",
   "execution_count": null,
   "metadata": {},
   "outputs": [],
   "source": [
    "%%bash\n",
    "cd airflow/\n",
    "git log --all --pretty=format:'%s' > ../data/all_commit_msgs.txt"
   ]
  },
  {
   "cell_type": "code",
   "execution_count": null,
   "metadata": {},
   "outputs": [],
   "source": [
    "%%bash\n",
    "head data/all_commit_msgs.txt"
   ]
  },
  {
   "cell_type": "code",
   "execution_count": null,
   "metadata": {},
   "outputs": [],
   "source": [
    "%%bash\n",
    "cd airflow/\n",
    "git log --all --pretty=format:'\"%h\",\"%s\"' > ../data/all_commit_msgs.csv"
   ]
  },
  {
   "cell_type": "code",
   "execution_count": null,
   "metadata": {},
   "outputs": [],
   "source": [
    "%%bash\n",
    "head data/all_commit_msgs.csv"
   ]
  },
  {
   "cell_type": "code",
   "execution_count": null,
   "metadata": {},
   "outputs": [],
   "source": [
    "%%bash\n",
    "cd airflow/\n",
    "git log --pretty=format:'\"%h\",\"%an\",\"%ad\"' \\\n",
    "    --date=short \\\n",
    "    --numstat > \\\n",
    "    ../data/airflow_evo.log"
   ]
  },
  {
   "cell_type": "code",
   "execution_count": null,
   "metadata": {},
   "outputs": [],
   "source": [
    "%%bash\n",
    "head data/airflow_evo.log"
   ]
  },
  {
   "cell_type": "markdown",
   "metadata": {},
   "source": [
    "Not completely suited to our needs yet. Let's convert it into a CSV file with one file per line."
   ]
  },
  {
   "cell_type": "code",
   "execution_count": null,
   "metadata": {},
   "outputs": [],
   "source": [
    "%%bash\n",
    "python evo_log_to_csv.py data/airflow_evo.log"
   ]
  },
  {
   "cell_type": "code",
   "execution_count": null,
   "metadata": {},
   "outputs": [],
   "source": [
    "%%bash\n",
    "ls -ltrh data"
   ]
  },
  {
   "cell_type": "code",
   "execution_count": null,
   "metadata": {},
   "outputs": [],
   "source": [
    "%%bash\n",
    "head data/airflow_evo.log.csv"
   ]
  },
  {
   "cell_type": "markdown",
   "metadata": {},
   "source": [
    "Not completely nice either, what are the following \"weird\" files?"
   ]
  },
  {
   "cell_type": "code",
   "execution_count": null,
   "metadata": {},
   "outputs": [],
   "source": [
    "%%bash\n",
    "grep \"=>\" data/airflow_evo.log.csv | head"
   ]
  },
  {
   "cell_type": "markdown",
   "metadata": {},
   "source": [
    "We have to \"clean up\" commits in which files have been moved so that we have a view of the current repository contents and do not lose old commit information.\n"
   ]
  },
  {
   "cell_type": "code",
   "execution_count": null,
   "metadata": {},
   "outputs": [],
   "source": [
    "%%bash\n",
    "python repair_git_move.py data/airflow_evo.log.csv"
   ]
  },
  {
   "cell_type": "code",
   "execution_count": null,
   "metadata": {},
   "outputs": [],
   "source": [
    "%%bash\n",
    "ls -ltrh data"
   ]
  },
  {
   "cell_type": "code",
   "execution_count": null,
   "metadata": {},
   "outputs": [],
   "source": [
    "%%bash\n",
    "head data/airflow_evo.log_repaired.csv"
   ]
  },
  {
   "cell_type": "code",
   "execution_count": null,
   "metadata": {},
   "outputs": [],
   "source": [
    "%%bash\n",
    "grep \"=>\" data/airflow_evo.log_repaired.csv | head"
   ]
  },
  {
   "cell_type": "markdown",
   "metadata": {},
   "source": [
    "------------------------------------------------\n",
    "\n",
    "\n",
    "\n",
    "# Shell-based Analysis\n",
    "\n",
    "## How many revisions do we have in the repository?\n",
    "\n",
    "That is: How much does the software change?\n",
    "\n",
    "### Why does it matter?\n",
    "\n",
    "  > In general, process measures based on the change history are more useful in predicting fault rates than product metrics of the code: For instance, the number of times code has been changed is a better indication of how many faults it will contain than is its length\n",
    "  >\n",
    "  > [Graves et al. _Predicting fault incidence using software change history_](http://citeseerx.ist.psu.edu/viewdoc/download?doi=10.1.1.116.9414&rep=rep1&type=pdf)"
   ]
  },
  {
   "cell_type": "code",
   "execution_count": null,
   "metadata": {},
   "outputs": [],
   "source": [
    "%%bash\n",
    "cut -d, -f 1 data/airflow_evo.log_repaired.csv | head"
   ]
  },
  {
   "cell_type": "code",
   "execution_count": null,
   "metadata": {},
   "outputs": [],
   "source": [
    "%%bash\n",
    "tail -n +2 data/airflow_evo.log_repaired.csv | head"
   ]
  },
  {
   "cell_type": "code",
   "execution_count": null,
   "metadata": {},
   "outputs": [],
   "source": [
    "%%bash\n",
    "tail -n +2 data/airflow_evo.log_repaired.csv | cut -d, -f 1 | head"
   ]
  },
  {
   "cell_type": "code",
   "execution_count": null,
   "metadata": {},
   "outputs": [],
   "source": [
    "%%bash\n",
    "tail -n +2 data/airflow_evo.log_repaired.csv | cut -d, -f 1 | sort | uniq | wc -l"
   ]
  },
  {
   "cell_type": "code",
   "execution_count": null,
   "metadata": {},
   "outputs": [],
   "source": [
    "%%bash\n",
    "tail -n +2 data/airflow_evo.log_repaired.csv | cut -d, -f 7 | sort | uniq -c | sort -r | tail -n +2 | head -20"
   ]
  },
  {
   "cell_type": "markdown",
   "metadata": {},
   "source": [
    "# Shell-based Analysis\n",
    "\n",
    "## Who are the ten persons that contribute the most?\n",
    "\n",
    "### Why does it matter?\n",
    "\n",
    "  > Our conclusion: adding more programmers improves the chances that a FOSS project will be successful.\n",
    "  >\n",
    "  > Schweik et al. _Brooks' Versus Linus' Law: An Empirical Test of Open Source Projects_\n",
    "\n",
    "\n",
    "  > ...files with changes from nine or more developers were 16 times more likely to have a vulnerability than files changed by fewer than nine developers, indicating that many developers changing code may have a detrimental effect on the system's security\n",
    "  >\n",
    "  > [_Secure Open Source Collaboration: An Empirical Study of Linus’ Law_](http://citeseerx.ist.psu.edu/viewdoc/download?doi=10.1.1.965.7992&rep=rep1&type=pdf)"
   ]
  },
  {
   "cell_type": "code",
   "execution_count": null,
   "metadata": {},
   "outputs": [],
   "source": [
    "%%bash\n",
    "tail -n +2 data/airflow_evo.log_repaired.csv | cut -d, -f 2 | sort | uniq -c | sort | tail -r -n10"
   ]
  },
  {
   "cell_type": "markdown",
   "metadata": {},
   "source": [
    "Note, on Linux the latter is likely `tail -n10 | tac`."
   ]
  },
  {
   "cell_type": "markdown",
   "metadata": {},
   "source": [
    "### Your turn!\n",
    "\n",
    "  * How many contributors are there in total?"
   ]
  },
  {
   "cell_type": "code",
   "execution_count": null,
   "metadata": {},
   "outputs": [],
   "source": [
    "%%bash\n",
    "tail -n +2 data/airflow_evo.log_repaired.csv | cut -d, -f 2 | ???"
   ]
  },
  {
   "cell_type": "markdown",
   "metadata": {},
   "source": [
    "  * Who is contributing the least?\n"
   ]
  },
  {
   "cell_type": "code",
   "execution_count": null,
   "metadata": {},
   "outputs": [],
   "source": [
    "%%bash\n",
    "tail -n +2 data/airflow_evo.log_repaired.csv | cut -d, -f 2 | ???"
   ]
  },
  {
   "cell_type": "markdown",
   "metadata": {},
   "source": [
    "  * Google-fu question: What is the median contribution value?"
   ]
  },
  {
   "cell_type": "code",
   "execution_count": null,
   "metadata": {},
   "outputs": [],
   "source": [
    "%%bash\n",
    "tail -n +2 data/airflow_evo.log_repaired.csv | cut -d, -f 2 | ???"
   ]
  },
  {
   "cell_type": "markdown",
   "metadata": {},
   "source": [
    "# Scripted Analysis 1: \n",
    "\n",
    "## What are people doing?\n",
    "\n",
    "We can analyze the commit messages to get a feeling for what people are doing.\n",
    "\n",
    "### Why does it matter?\n",
    "\n",
    "  > If we look at the commit cloud, we see that certain terms dominate. What you'll learn right now is by no means scientific, but it's a useful heuristic: the words that stand out tell you where you spend your time.\n",
    "  >\n",
    "  > A. Tornhill _Your Code as a Crime Scene_"
   ]
  },
  {
   "cell_type": "code",
   "execution_count": null,
   "metadata": {},
   "outputs": [],
   "source": [
    "%%bash\n",
    "cat data/all_commit_msgs.txt | head"
   ]
  },
  {
   "cell_type": "code",
   "execution_count": null,
   "metadata": {},
   "outputs": [],
   "source": [
    "%%bash\n",
    "grep \"fix\" data/all_commit_msgs.txt | head"
   ]
  },
  {
   "cell_type": "code",
   "execution_count": null,
   "metadata": {},
   "outputs": [],
   "source": [
    "%%bash\n",
    "grep \"fix\" data/all_commit_msgs.txt | wc -l"
   ]
  },
  {
   "cell_type": "code",
   "execution_count": null,
   "metadata": {},
   "outputs": [],
   "source": [
    "%%bash\n",
    "grep \"error\" data/all_commit_msgs.txt | wc -l"
   ]
  },
  {
   "cell_type": "code",
   "execution_count": null,
   "metadata": {},
   "outputs": [],
   "source": [
    "%%bash\n",
    "grep \"bug\" data/all_commit_msgs.txt | wc -l"
   ]
  },
  {
   "cell_type": "markdown",
   "metadata": {},
   "source": [
    "With a bit enhanced word natural-language processing (NLP) based word extraction, we can condense the following word frequencies."
   ]
  },
  {
   "cell_type": "code",
   "execution_count": null,
   "metadata": {},
   "outputs": [],
   "source": [
    "%%bash\n",
    "python word_freq.py data/all_commit_msgs.txt nlp"
   ]
  },
  {
   "cell_type": "markdown",
   "metadata": {},
   "source": [
    "Let's create a wordcloud for the data."
   ]
  },
  {
   "cell_type": "code",
   "execution_count": null,
   "metadata": {},
   "outputs": [],
   "source": [
    "%%bash\n",
    "pythonw wordcloud_gen.py data/all_commit_msgs.txt nlp"
   ]
  },
  {
   "cell_type": "code",
   "execution_count": 177,
   "metadata": {},
   "outputs": [
    {
     "name": "stdout",
     "output_type": "stream",
     "text": [
      "total 624\n",
      "-rw-r--r--  1 ropf  staff   308K Sep 26 15:19 all_commit_msgs.png\n"
     ]
    }
   ],
   "source": [
    "%%bash\n",
    "ls -ltrh out\n"
   ]
  },
  {
   "cell_type": "markdown",
   "metadata": {},
   "source": [
    "![](out/all_commit_msgs.png)"
   ]
  },
  {
   "cell_type": "markdown",
   "metadata": {},
   "source": [
    "# Scripted Analysis 2 \n",
    "\n",
    "## Sentiment Analysis of Commit Messages\n",
    "\n",
    "### Why does it matter?\n",
    "\n",
    "Commit messages can give insight into the state of your team and likely also into the state of your software.\n",
    "\n",
    "For example they can shed light on when your team members are \"working best\" and in which setup:\n",
    "\n",
    "  > Our results show that projects developed in Java tend to have more negative commit comments, and that projects that have more distributed teams tend to have a higher positive polarity in their emotional content. Additionally, we found that commit comments written on Mondays tend to a more negative emotion.\n",
    "  >\n",
    "  > [E. Guzman et al. _\"Sentiment Analysis of Commit Comments in GitHub: An Empirical Study\"_](https://www.researchgate.net/profile/Emitza_Guzman/publication/266657943_Sentiment_analysis_of_commit_comments_in_GitHub_An_empirical_study/links/5b8305ba4585151fd134f10c/Sentiment-analysis-of-commit-comments-in-GitHub-An-empirical-study.pdf)"
   ]
  },
  {
   "cell_type": "code",
   "execution_count": null,
   "metadata": {},
   "outputs": [],
   "source": [
    "%%bash\n",
    "python commit_sentiments.py data/all_commit_msgs.csv > data/all_commit_sentiment_msgs.csv"
   ]
  },
  {
   "cell_type": "code",
   "execution_count": null,
   "metadata": {},
   "outputs": [],
   "source": [
    "%%bash\n",
    "ls -ltrh data"
   ]
  },
  {
   "cell_type": "code",
   "execution_count": null,
   "metadata": {},
   "outputs": [],
   "source": [
    "%%bash\n",
    "head data/all_commit_sentiment_msgs.csv"
   ]
  },
  {
   "cell_type": "code",
   "execution_count": null,
   "metadata": {},
   "outputs": [],
   "source": [
    "import pandas as pd\n",
    "\n",
    "\n",
    "df = pd.read_csv('data/all_commit_sentiment_msgs.csv')\n",
    "df.head()"
   ]
  },
  {
   "cell_type": "markdown",
   "metadata": {},
   "source": [
    "#### Which are the commits containing negative commit messages?"
   ]
  },
  {
   "cell_type": "code",
   "execution_count": null,
   "metadata": {},
   "outputs": [],
   "source": [
    "df[df.polarity < -0.5]"
   ]
  },
  {
   "cell_type": "markdown",
   "metadata": {},
   "source": [
    "#### Which are the commits containing positive commit messages?"
   ]
  },
  {
   "cell_type": "code",
   "execution_count": null,
   "metadata": {},
   "outputs": [],
   "source": [
    "df[df.polarity > 0.5]"
   ]
  },
  {
   "cell_type": "markdown",
   "metadata": {},
   "source": [
    "**Possible Project:**\n",
    "\n",
    "Train an NLP sentiment analysis model on a properly annotated commit history to get better results.\n",
    "\n",
    "#### Which is the commit with the most negative commit message?"
   ]
  },
  {
   "cell_type": "code",
   "execution_count": null,
   "metadata": {},
   "outputs": [],
   "source": [
    "most_negative = df[df.polarity == df.polarity.min()]\n",
    "print(most_negative.msg.values)\n",
    "most_negative"
   ]
  },
  {
   "cell_type": "markdown",
   "metadata": {},
   "source": [
    "## What is the corresponding commit?\n",
    "\n",
    "Now we are crossing information from two datasets."
   ]
  },
  {
   "cell_type": "code",
   "execution_count": null,
   "metadata": {},
   "outputs": [],
   "source": [
    "complete_df = pd.read_csv('data/airflow_evo.log_repaired.csv')\n",
    "complete_df[complete_df.hash == most_negative.index[0]]"
   ]
  },
  {
   "cell_type": "markdown",
   "metadata": {},
   "source": [
    "Do you remember the file `airflow/models/__init__.py` from somewhere?"
   ]
  },
  {
   "cell_type": "markdown",
   "metadata": {},
   "source": [
    "# Scripted Analysis 2 \n",
    "\n",
    "## A Project's Bus-factor\n",
    "\n",
    "\n",
    "One of the early mentions of the term in a real project [_\"If Guido was hit by a bus?\"_](https://legacy.python.org/search/hypermail/python-1994q2/1040.html)\n",
    "\n",
    "\n",
    "### Why does it matter?\n",
    "\n",
    "  > ...the number of people on your team that have to be hit by a truck (or quit) before the project is in serious trouble...\n",
    "  >\n",
    "  > L. Williams and R. Kessler, Pair Programming Illuminated. Wesley, 2003.\n",
    "Addison"
   ]
  },
  {
   "cell_type": "code",
   "execution_count": null,
   "metadata": {},
   "outputs": [],
   "source": [
    "complete_df.head()"
   ]
  },
  {
   "cell_type": "markdown",
   "metadata": {},
   "source": [
    "Let's start with computing code ownership as A. Tornhill suggests in _Your Code as a Crime Scene_ (he calls it _knowledge ownership_). He suggests to compute a simple measure that counts the total amounts of lines added through the history of a file to it and per author the amounts of lines added by that author. Out of the two values he computes a the _knowledge ownership_ rate.\n",
    "\n",
    "In our computation we just say that the author with the highest _knowledge ownership_ rate on a file \"owns\" that file.\n",
    "\n",
    " \n",
    "There are more elaborate measures for code ownership in the literature, for example:\n",
    "\n",
    "  > DOA = 3.293 + 1.098 ∗ FA + 0.164 ∗ DL − 0.321 ∗ ln(1 + AC )\n",
    "The degree of authorship of a developer d in a file f depends on three factors: first authorship (FA), number of deliveries (DL), and number of acceptances (AC). If d is the author of f, FA is 1; otherwise it is 0; DL is the number of changes in f made by D; and AC is the number of changes in f made by other developers.\n",
    "  > \n",
    "  > [G. Avelino et al. _What is the Truck Factor of Popular GitHub Applications? A First Assessment_](https://peerj.com/preprints/1233.pdf)\n",
    "  \n",
    "But for now we keep things simple."
   ]
  },
  {
   "cell_type": "code",
   "execution_count": null,
   "metadata": {},
   "outputs": [],
   "source": [
    "new_rows = []\n",
    "\n",
    "for fname in set(complete_df.current.values):\n",
    "    view = complete_df[complete_df.current == fname]\n",
    "    sum_series = view.groupby(['author']).added.sum()\n",
    "    view_df = sum_series.reset_index(name='sum_added')\n",
    "    total_added = view_df.sum_added.sum()\n",
    "    \n",
    "    if total_added > 0:  # For binaries there are no lines counted\n",
    "        view_df['owning_percent'] = view_df.sum_added / total_added\n",
    "        owning_author = view_df.loc[view_df.owning_percent.idxmax()]\n",
    "        new_rows.append((fname, owning_author.author, owning_author.sum_added,\n",
    "                         total_added, owning_author.owning_percent))\n",
    "    # All binaries are silently skipped in this report..."
   ]
  },
  {
   "cell_type": "code",
   "execution_count": null,
   "metadata": {},
   "outputs": [],
   "source": [
    "owner_df = pd.DataFrame(new_rows, columns=['artifact', 'main_dev', 'added', 'total_added', 'owner_rate'])\n",
    "owner_df.head()"
   ]
  },
  {
   "cell_type": "code",
   "execution_count": null,
   "metadata": {},
   "outputs": [],
   "source": [
    "owner_freq_series = owner_df.groupby(['main_dev']).artifact.count()\n",
    "owner_freq_series"
   ]
  },
  {
   "cell_type": "code",
   "execution_count": null,
   "metadata": {},
   "outputs": [],
   "source": [
    "owner_freq_df = owner_freq_series.reset_index(name='owns_no_artifacts')\n",
    "owner_freq_df.sort_values(by='owns_no_artifacts', inplace=True)\n",
    "owner_freq_df"
   ]
  },
  {
   "cell_type": "code",
   "execution_count": null,
   "metadata": {
    "scrolled": true
   },
   "outputs": [],
   "source": [
    "%matplotlib notebook\n",
    "import matplotlib.pyplot as plt\n",
    "\n",
    "\n",
    "fig = plt.figure(figsize=(12, 3))\n",
    "plt.xticks(rotation=45)\n",
    "plt.xticks(size=3)\n",
    "plt.plot(owner_freq_df.main_dev, owner_freq_df.owns_no_artifacts)"
   ]
  },
  {
   "cell_type": "markdown",
   "metadata": {},
   "source": [
    "Now, we can -similar to [G. Avelino et al. _A novel approach for estimating Truck Factors_](https://ieeexplore.ieee.org/stamp)/stamp.jsp?arnumber=7503718)- start \"removing\" low-contributing authors from the dataset as long as still more than half of the files have an owner. The amount of remaining owners is the bus-factor of that project."
   ]
  },
  {
   "cell_type": "code",
   "execution_count": null,
   "metadata": {},
   "outputs": [],
   "source": [
    "no_artifacts = len(owner_df.artifact)\n",
    "half_no_artifacts = no_artifacts // 2\n",
    "count = 0\n",
    "\n",
    "for owner, freq in owner_freq_df.values:\n",
    "    no_artifacts -= freq\n",
    "    if no_artifacts < half_no_artifacts:\n",
    "        break\n",
    "    else:\n",
    "        count += 1\n",
    "\n",
    "busfactor = len(owner_freq_df.main_dev) - count\n",
    "print(f\"The bus factor of Apache Airflow is: {busfactor}\")"
   ]
  },
  {
   "cell_type": "markdown",
   "metadata": {},
   "source": [
    "----------------------------------------------------------------\n",
    "\n",
    "\n",
    "# Your turn!\n",
    "\n",
    "![](http://giphygifs.s3.amazonaws.com/media/11M1k4fIwVqPF6/giphy.gif)\n",
    "\n",
    "<!--\n",
    "Chose one or more software systems that are under version control with Git.\n",
    "\n",
    "Use the version history to analyze\n",
    "\n",
    "I suggest that you could work on one of the following problems:\n",
    "\n",
    "\n",
    "### A) Can you suggest a team structure for a project?\n",
    "\n",
    "Persons who work often on the same artifacts should perhaps work together and not distributed around the globe.\n",
    "\n",
    "Write a script/program that suggests teams of size 5 to 10.\n",
    "\n",
    "Base your analysis on the file `<your_system>_evo.log.csv` that you can create similar to in the example above like:\n",
    "\n",
    "```bash\n",
    "git clone <url to>/<your_system>.git\n",
    "\n",
    "cd <your_system>/\n",
    "git log --pretty=format:'\"%h\",\"%an\",\"%ad\"' \\\n",
    "    --date=short \\\n",
    "    --numstat > \\\n",
    "    ../data/<your_system>_evo.log\n",
    "\n",
    "python evo_log_to_csv.py data/<your_system>_evo.log\n",
    "python repair_git_move.py data/<your_system>_evo.log.csv\n",
    "```\n",
    "\n",
    "Find a suitable categorization for all persons that rarely contribute to a project.\n",
    "\n",
    "M. Penta _The Effect of Communication Overhead on\n",
    "Software Maintenance Project Staffing: a Search-Based Approach_ [DHAQ07].)\n",
    "The Influence of Organizational Structure on Software Quality [NMB08].\n",
    "\n",
    "### B) Architectural Decay\n",
    "\n",
    "\n",
    "### C) Reproduce Paper Results\n",
    "\n",
    "Take the initial paper from https://peerj.com/preprints/1233.pdf and the final version [G. Avelino et al. _A novel approach for estimating Truck Factors_](https://ieeexplore.ieee.org/stamp)/stamp.jsp?arnumber=7503718). Dow\n",
    "\n",
    "### D) Freestyle\n",
    "\n",
    "Formulate a problem that you want to investigate based on the history of a VCS. Possible projects are:\n",
    "  \n",
    "  * Can we find a relation between sentiments in commit messages and complexity of the files in the commit?\n",
    "  * A project based on one or more chapters in A. Tornhill _Your Code as a Crime Scene_\n",
    "-->\n",
    "\n",
    "# I do not have Linux on my computer...\n",
    "\n",
    "All of the scripts and advise in this material assumes that you are working on a Linux/Unix environment. In case you are on Windows, there are many different ways of setting up such an environment. You can find a guide on setting up virtual machines with -amongst others- Ubuntu Linux here: http://itu.dk/people/ropf/blog/vagrant_install.html. I recommend that you setup such an environment as you as software engineers should be comfortable and able to work in various environments depending on the needs of your future companies/clients."
   ]
  }
 ],
 "metadata": {
  "kernelspec": {
   "display_name": "Python 3",
   "language": "python",
   "name": "python3"
  },
  "language_info": {
   "codemirror_mode": {
    "name": "ipython",
    "version": 3
   },
   "file_extension": ".py",
   "mimetype": "text/x-python",
   "name": "python",
   "nbconvert_exporter": "python",
   "pygments_lexer": "ipython3",
   "version": "3.7.3"
  }
 },
 "nbformat": 4,
 "nbformat_minor": 2
}
