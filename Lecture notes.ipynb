{
 "cells": [
  {
   "cell_type": "markdown",
   "metadata": {
    "slideshow": {
     "slide_type": "slide"
    }
   },
   "source": [
    "# Welcome to Advanced Software Engineering\n",
    "## Analyzing Version Control System Data\n",
    "\n",
    "![](https://comidoc.net/static/assets/thumbs/480/webp/2267906_505c.webp)"
   ]
  },
  {
   "cell_type": "markdown",
   "metadata": {
    "slideshow": {
     "slide_type": "slide"
    }
   },
   "source": [
    "## Learning Objectives\n",
    "\n",
    "After this session (+ exercises) the student will be able to:\n",
    "\n",
    "  * Understand how research analyzing VCS histories collects the underlying data.\n",
    "  * Export the history from Git repositories.\n",
    "  * Apply scripts and programs in various languages to clean and pre-process the exported data.\n",
    "  * Apply scripts and programs in various languages to analyze Git VCS data with respect to certain hypotheses/research questions.\n",
    "  * Interpret the analysis results to either better understand current practices or to suggest actionable changes of current practices in software engineering teams.\n",
    "  \n",
    "-------------------------------------"
   ]
  },
  {
   "cell_type": "markdown",
   "metadata": {
    "slideshow": {
     "slide_type": "slide"
    }
   },
   "source": [
    "# What are we doing today?\n",
    "\n",
    "## Motivation\n",
    "\n",
    "You all read the paper C. Bird et al. [_\"Don't Touch My Code! Examining the Effects of Ownership on Software Quality\"_](https://www.microsoft.com/en-us/research/wp-content/uploads/2016/02/bird2011dtm.pdf)"
   ]
  },
  {
   "cell_type": "code",
   "execution_count": null,
   "metadata": {
    "scrolled": true
   },
   "outputs": [],
   "source": [
    "from IPython.display import IFrame\n",
    "\n",
    "\n",
    "IFrame('./bird2011dtm.pdf', width='100%', height=800)"
   ]
  },
  {
   "cell_type": "markdown",
   "metadata": {
    "slideshow": {
     "slide_type": "subslide"
    }
   },
   "source": [
    "### What did you take away from the paper?\n",
    "\n",
    "<!--\n",
    "  * Relationship between single/shared person size of commits vs. failure rates\n",
    "    - The more minor contirbutors the higher the failure rate\n",
    "  * Interesting: how ownership is defined\n",
    "    - Correlation of low-knowledge work and failure rates\n",
    "  * Main cause of failures how people commit but not who owns the most\n",
    "  * Ownership by commits in single files?\n",
    "    - No mapping between authors and specific files?\n",
    "    - ???\n",
    "-->\n",
    "\n",
    "  * \n",
    "  * \n",
    "  * "
   ]
  },
  {
   "cell_type": "markdown",
   "metadata": {
    "slideshow": {
     "slide_type": "subslide"
    }
   },
   "source": [
    "\n",
    "\n",
    "### Some paragraphs that I think are important...\n",
    "\n",
    "  > \"How much does ownership affect quality?\"\n",
    "    \n",
    "  > Ownership is a general term used to describe whether one person has responsibility for a software component, or if there is no one clearly responsible developer. Within Microsoft, we have found that when more people work on a binary, it has more failures.\n",
    "  \n",
    "  > Interestingly, unlike some aspects of software which are known to be related to defects such as dependency complexity, or size, ownership is something that can be deliberately changed by modifying processes and policies. Thus, the answer to the question: “How much does ownership affect quality?” is important as it is actionable. Managers and team leads can make better decisions about how to govern a project by knowing the answer. \n",
    "  \n",
    "   \n",
    "\n",
    "\n",
    "\n",
    "\n",
    "  > We require several types of data. The most important data are the commit histories and software failures. Software repositories record the contents of every change made to a piece of software, along with the change author, the time of change, and an associated log message that may be indicative of the type of change (e.g. introducing a feature, or fixing a bug). We collected the number of changes made by each developer to each source file and used a mapping of source files to binaries in order to determine the number of changes made by each developer to each binary. Although the source code management system uses branches heavily, we only recorded changes from developers that were edits to the source code. Branching operations (e.g. branching and merging) were not counted as changes."
   ]
  },
  {
   "cell_type": "markdown",
   "metadata": {
    "slideshow": {
     "slide_type": "subslide"
    }
   },
   "source": [
    "### After reading the paper, do you know how the researchers collected the data on which they base their analysis?\n",
    "\n",
    "The big issue is now:\n",
    "<p style=\"padding:6px; color: grey; background-color: white; border: orange 2px solid\">\"Alright, I can read the article and understand the experiment setup and results, but how would I run a similar experiment in my organization?\"</p>"
   ]
  },
  {
   "cell_type": "markdown",
   "metadata": {
    "slideshow": {
     "slide_type": "subslide"
    }
   },
   "source": [
    "# What are we doing today?\n",
    "\n",
    "## What are we really doing now?\n",
    "\n",
    "We will -on a running example- perform a set of analyses of data from Git, a particular version control system (VCS). Everything in this lecture should be -with minor adaptations- applicable to other VCS, such as Mercurial, Microsoft TFS, etc.\n",
    "\n",
    "You will learn how to:\n",
    "\n",
    "  * Export the history from Git repositories.\n",
    "  * Apply scripts and programs in various languages to clean and pre-process the exported data.\n",
    "  * Apply scripts and programs in various languages to analyze Git VCS data with respect to certain hypotheses/research questions.\n",
    "  * Interpret the analysis results to either better understand current practices or to suggest actionable changes of current practices in software engineering teams.\n",
    "  \n",
    "## Working together now\n",
    "\n",
    "As you have various operating systems installed on your computers and since I cannot support all of these in such a short time, we will work together on a remotely hosted virtual machine Linux environment.\n",
    "\n",
    "Navigate to: https://github.com/HelgeCPH/2019_ase_behavioural_analysis and press the button that says `launch binder`. In case you have a Linux or Unix installed on your computer you can run everything on your local machine right away.\n",
    "\n",
    "After waiting a short while click on the file called `Lecture notes.ipynb` now you should see a similar screen to mine."
   ]
  },
  {
   "cell_type": "markdown",
   "metadata": {
    "slideshow": {
     "slide_type": "subslide"
    }
   },
   "source": [
    "--------------------------------------------------------\n",
    "\n",
    "\n",
    "# Getting the VCS Data\n",
    "\n",
    "In the lecture we use [Apache Airflow](https://airflow.apache.org) as an example software system.\n",
    "\n",
    "  > Airflow is a platform to programmatically author, schedule and monitor workflows.\n",
    "\n",
    "The project is accessible on Github: https://github.com/apache/airflow. That is, we make use of the Git VCS during this lecture."
   ]
  },
  {
   "cell_type": "code",
   "execution_count": null,
   "metadata": {},
   "outputs": [],
   "source": [
    "%%bash\n",
    "git clone https://github.com/apache/airflow.git"
   ]
  },
  {
   "cell_type": "code",
   "execution_count": null,
   "metadata": {
    "slideshow": {
     "slide_type": "subslide"
    }
   },
   "outputs": [],
   "source": [
    "%%bash\n",
    "ls -ltrha airflow/"
   ]
  },
  {
   "cell_type": "markdown",
   "metadata": {
    "slideshow": {
     "slide_type": "subslide"
    }
   },
   "source": [
    "## Moving back in time \n",
    "\n",
    "We want to all work on the same \"view\" of the software so let's go back to the state of the repository on Friday Sept. 30th."
   ]
  },
  {
   "cell_type": "code",
   "execution_count": null,
   "metadata": {},
   "outputs": [],
   "source": [
    "%%bash\n",
    "git -C airflow/ checkout $(git -C airflow/ rev-list -n 1 --before=\"2022-09-30\" main)"
   ]
  },
  {
   "cell_type": "markdown",
   "metadata": {
    "slideshow": {
     "slide_type": "-"
    }
   },
   "source": [
    "If you want to perform an analyzes for a certain period only, you can add the `--after` switch too."
   ]
  },
  {
   "cell_type": "markdown",
   "metadata": {
    "slideshow": {
     "slide_type": "subslide"
    }
   },
   "source": [
    "## The revisions of a software system, organizational history\n",
    "\n",
    "```bash\n",
    "git log\n",
    "```\n",
    "\n",
    "Note, you have to switch into the directory of the repository that you want to study."
   ]
  },
  {
   "cell_type": "code",
   "execution_count": null,
   "metadata": {},
   "outputs": [],
   "source": [
    "%%bash\n",
    "git -C airflow/ log | head -30"
   ]
  },
  {
   "cell_type": "markdown",
   "metadata": {
    "slideshow": {
     "slide_type": "subslide"
    }
   },
   "source": [
    "### What do we see and how to read it?\n",
    "\n",
    "```\n",
    "commit af368243f87dfb5a4bc98a571d7b4775186d214c\n",
    "Author: Ephraim Anierobi <splendidzigy24@gmail.com>\n",
    "Date:   Fri Sep 30 00:28:12 2022 +0100\n",
    "\n",
    "    Add restarting state to TaskState Enum in REST API (#26776)\n",
    "\n",
    "commit ce071172e22fba018889db7dcfac4a4d0fc41cda\n",
    "Author: Ephraim Anierobi <splendidzigy24@gmail.com>\n",
    "Date:   Thu Sep 29 22:51:46 2022 +0100\n",
    "\n",
    "    Remove DAG parsing from StandardTaskRunner (#26750)\n",
    "    \n",
    "    This makes the starting of StandardTaskRunner faster as the parsing of DAG will now be done once at task_run.\n",
    "    Also removed parsing of example dags when running a task\n",
    "\n",
    "commit 2e66d2d89e1e4a3c7b31a43b62d0b0ec97165dd4\n",
    "Author: Brent Bovenzi <brent@astronomer.io>\n",
    "Date:   Thu Sep 29 14:14:45 2022 -0400\n",
    "\n",
    "    add icon legend to datasets graph (#26781)\n",
    "\n",
    "commit bec80af0718e44212d02a969a65d3201648735f4\n",
    "Author: pierrejeambrun <pierrejbrun@gmail.com>\n",
    "Date:   Thu Sep 29 16:06:52 2022 +0200\n",
    "\n",
    "    Allow retrieving error message from data.detail (#26762)\n",
    "\n",
    "commit b6c5189dadb9c09967ec53c8bca1832852c5500e\n",
    "Author: HTErik <89977373+hterik@users.noreply.github.com>\n",
    "Date:   Thu Sep 29 05:14:25 2022 +0200\n",
    "```"
   ]
  },
  {
   "cell_type": "markdown",
   "metadata": {
    "slideshow": {
     "slide_type": "subslide"
    }
   },
   "source": [
    "Note, we are looking on the master/main branch only at the moment. That is, you see only commit messages on that single branch (we will talk more about these in three weeks).\n",
    "\n",
    "```bash\n",
    "git log --all\n",
    "```\n",
    "\n",
    "```bash\n",
    "git log --branches --remotes --tags --graph --oneline --decorate\n",
    "```\n",
    "\n",
    "\n",
    "### What are all these switches?\n",
    "\n",
    "You can read the help of `git log` via:\n",
    "\n",
    "```bash\n",
    "git help log\n",
    "```"
   ]
  },
  {
   "cell_type": "markdown",
   "metadata": {
    "slideshow": {
     "slide_type": "fragment"
    }
   },
   "source": [
    "All the `git log`s we looked at so far are meant for humans to read and interpret.\n",
    "\n",
    "However, we want to automatically analyze the logs to infer information out of it that is hidden in the logs."
   ]
  },
  {
   "cell_type": "markdown",
   "metadata": {
    "slideshow": {
     "slide_type": "subslide"
    }
   },
   "source": [
    "---------------------------------------------\n",
    "\n",
    "# Collecting, Cleansing, and Pre-processing the Data\n",
    "\n",
    "## Exporting the `git log` into a machine readable format\n",
    "\n",
    "Read the `PRETTY FORMATS` section of the `git log` help for possible placeholders in the format string"
   ]
  },
  {
   "cell_type": "code",
   "execution_count": null,
   "metadata": {},
   "outputs": [],
   "source": [
    "%%bash\n",
    "git -C airflow/ log --all --pretty=format:'%s' > data/all_commit_msgs.txt"
   ]
  },
  {
   "cell_type": "code",
   "execution_count": null,
   "metadata": {},
   "outputs": [],
   "source": [
    "%%bash\n",
    "head data/all_commit_msgs.txt"
   ]
  },
  {
   "cell_type": "code",
   "execution_count": null,
   "metadata": {},
   "outputs": [],
   "source": [
    "%%bash\n",
    "git -C airflow/ log --all --pretty=format:'\"%h\",\"%s\"' > data/all_commit_msgs.csv"
   ]
  },
  {
   "cell_type": "code",
   "execution_count": null,
   "metadata": {},
   "outputs": [],
   "source": [
    "%%bash\n",
    "head data/all_commit_msgs.csv"
   ]
  },
  {
   "cell_type": "code",
   "execution_count": null,
   "metadata": {},
   "outputs": [],
   "source": [
    "%%bash\n",
    "git -C airflow/ log --pretty=format:'\"%h\",\"%an\",\"%ad\"' \\\n",
    "    --date=short \\\n",
    "    --numstat > \\\n",
    "    data/airflow_evo.log"
   ]
  },
  {
   "cell_type": "code",
   "execution_count": null,
   "metadata": {},
   "outputs": [],
   "source": [
    "%%bash\n",
    "ls -lh data/airflow_evo.log"
   ]
  },
  {
   "cell_type": "code",
   "execution_count": null,
   "metadata": {},
   "outputs": [],
   "source": [
    "%%bash\n",
    "head -30 data/airflow_evo.log"
   ]
  },
  {
   "cell_type": "markdown",
   "metadata": {},
   "source": [
    "Not completely suited to our needs yet. Let's convert it into a CSV file with one file per line."
   ]
  },
  {
   "cell_type": "code",
   "execution_count": null,
   "metadata": {},
   "outputs": [],
   "source": [
    "%%bash\n",
    "python evo_log_to_csv.py data/airflow_evo.log"
   ]
  },
  {
   "cell_type": "code",
   "execution_count": null,
   "metadata": {},
   "outputs": [],
   "source": [
    "%%bash\n",
    "ls -ltrh data"
   ]
  },
  {
   "cell_type": "code",
   "execution_count": null,
   "metadata": {},
   "outputs": [],
   "source": [
    "%%bash\n",
    "head data/airflow_evo.log.csv"
   ]
  },
  {
   "cell_type": "markdown",
   "metadata": {},
   "source": [
    "Not completely nice either, what are the following \"weird\" files?"
   ]
  },
  {
   "cell_type": "code",
   "execution_count": null,
   "metadata": {},
   "outputs": [],
   "source": [
    "%%bash\n",
    "grep \"=>\" data/airflow_evo.log.csv | head"
   ]
  },
  {
   "cell_type": "markdown",
   "metadata": {},
   "source": [
    "We have to \"clean up\" commits in which files have been moved so that we have a view of the current repository contents and do not lose old commit information.\n"
   ]
  },
  {
   "cell_type": "code",
   "execution_count": null,
   "metadata": {},
   "outputs": [],
   "source": [
    "%%bash\n",
    "python repair_git_move.py data/airflow_evo.log.csv"
   ]
  },
  {
   "cell_type": "code",
   "execution_count": null,
   "metadata": {},
   "outputs": [],
   "source": [
    "%%bash\n",
    "ls -ltrh data"
   ]
  },
  {
   "cell_type": "code",
   "execution_count": null,
   "metadata": {},
   "outputs": [],
   "source": [
    "%%bash\n",
    "head data/airflow_evo.log_repaired.csv"
   ]
  },
  {
   "cell_type": "code",
   "execution_count": null,
   "metadata": {},
   "outputs": [],
   "source": [
    "%%bash\n",
    "grep \"=>\" data/airflow_evo.log_repaired.csv | head"
   ]
  },
  {
   "cell_type": "markdown",
   "metadata": {},
   "source": [
    "------------------------------------------------\n",
    "\n",
    "\n",
    "\n",
    "# Shell-based Analysis\n",
    "\n",
    "## How many revisions do we have in the repository?\n",
    "\n",
    "That is: How much does the software change?\n",
    "\n",
    "### Why does it matter?\n",
    "\n",
    "  > In general, process measures based on the change history are more useful in predicting fault rates than product metrics of the code: For instance, the number of times code has been changed is a better indication of how many faults it will contain than is its length\n",
    "  >\n",
    "  > [Graves et al. _Predicting fault incidence using software change history_](http://citeseerx.ist.psu.edu/viewdoc/download?doi=10.1.1.116.9414&rep=rep1&type=pdf)"
   ]
  },
  {
   "cell_type": "code",
   "execution_count": null,
   "metadata": {},
   "outputs": [],
   "source": [
    "%%bash\n",
    "tail -n +2 data/airflow_evo.log_repaired.csv | head"
   ]
  },
  {
   "cell_type": "code",
   "execution_count": null,
   "metadata": {
    "scrolled": true
   },
   "outputs": [],
   "source": [
    "%%bash\n",
    "cut -d, -f 1 data/airflow_evo.log_repaired.csv | head"
   ]
  },
  {
   "cell_type": "code",
   "execution_count": null,
   "metadata": {},
   "outputs": [],
   "source": [
    "%%bash\n",
    "tail -n +2 data/airflow_evo.log_repaired.csv | cut -d, -f 1 | head"
   ]
  },
  {
   "cell_type": "code",
   "execution_count": null,
   "metadata": {},
   "outputs": [],
   "source": [
    "%%bash\n",
    "tail -n +2 data/airflow_evo.log_repaired.csv | cut -d, -f 1 | sort | uniq | wc -l"
   ]
  },
  {
   "cell_type": "markdown",
   "metadata": {},
   "source": [
    "#### How many revisions of each file do we have?\n",
    "\n",
    "For the twenty most often changed files, we could formulate a query as in the following:"
   ]
  },
  {
   "cell_type": "code",
   "execution_count": null,
   "metadata": {},
   "outputs": [],
   "source": [
    "%%bash\n",
    "tail -n +2 data/airflow_evo.log_repaired.csv | cut -d, -f 7 | sort | uniq -c | sort -nr | tail -n +2 | head -30"
   ]
  },
  {
   "cell_type": "markdown",
   "metadata": {},
   "source": [
    "# Shell-based Analysis\n",
    "\n",
    "## Who are the ten persons that contribute the most?\n",
    "\n",
    "### Why does it matter?\n",
    "\n",
    "  > Our conclusion: adding more programmers improves the chances that a FOSS project will be successful.\n",
    "  >\n",
    "  > Schweik et al. _Brooks' Versus Linus' Law: An Empirical Test of Open Source Projects_\n",
    "\n",
    "\n",
    "  > ...files with changes from nine or more developers were 16 times more likely to have a vulnerability than files changed by fewer than nine developers, indicating that many developers changing code may have a detrimental effect on the system's security\n",
    "  >\n",
    "  > [_Secure Open Source Collaboration: An Empirical Study of Linus’ Law_](http://citeseerx.ist.psu.edu/viewdoc/download?doi=10.1.1.965.7992&rep=rep1&type=pdf)"
   ]
  },
  {
   "cell_type": "code",
   "execution_count": null,
   "metadata": {},
   "outputs": [],
   "source": [
    "%%bash\n",
    "tail -n +2 data/airflow_evo.log_repaired.csv | cut -d, -f 2 | sort | uniq -c | sort -n | tail -n10 | tac"
   ]
  },
  {
   "cell_type": "markdown",
   "metadata": {},
   "source": [
    "Note, on MacOS and other Unixes you can let tail reverse directly and you do not have the `tac` command by default.\n",
    "\n",
    "```bash\n",
    "tail -n +2 data/airflow_evo.log_repaired.csv | cut -d, -f 2 | sort | uniq -c | sort -n | tail -r -n10\n",
    "```"
   ]
  },
  {
   "cell_type": "code",
   "execution_count": null,
   "metadata": {},
   "outputs": [],
   "source": [
    "%%bash\n",
    "tail -n +2 data/airflow_evo.log_repaired.csv | cut -d, -f 2 | sort | uniq -c | sort -n | tail -n10 | tac"
   ]
  },
  {
   "cell_type": "markdown",
   "metadata": {},
   "source": [
    "### Your turn!\n",
    "\n",
    "  * How many contributors are there in total?\n",
    " \n",
    "<!--tail -n +2 data/airflow_evo.log_repaired.csv | cut -d, -f 2 | sort | uniq | wc -l -->"
   ]
  },
  {
   "cell_type": "code",
   "execution_count": null,
   "metadata": {},
   "outputs": [],
   "source": [
    "%%bash\n",
    "tail -n +2 data/airflow_evo.log_repaired.csv | cut -d, -f 2 | ???"
   ]
  },
  {
   "cell_type": "markdown",
   "metadata": {},
   "source": [
    "  * Who is contributing the least?\n",
    "\n",
    "<!-- tail -n +2 data/airflow_evo.log_repaired.csv | cut -d, -f 2 | sort | uniq -c | sort -n -->"
   ]
  },
  {
   "cell_type": "code",
   "execution_count": null,
   "metadata": {},
   "outputs": [],
   "source": [
    "%%bash\n",
    "tail -n +2 data/airflow_evo.log_repaired.csv | cut -d, -f 2 | ???"
   ]
  },
  {
   "cell_type": "markdown",
   "metadata": {},
   "source": [
    "  * Google-fu question: What is the median contribution value?\n",
    "  \n",
    "<!-- tail -n +2 data/airflow_evo.log_repaired.csv | cut -d, -f 2 | sort | uniq -c | cut -d '\"' -f 1 | python -c\"import sys,statistics;print(statistics.median([int(i) for i in sys.stdin.readlines()]))\" -->"
   ]
  },
  {
   "cell_type": "code",
   "execution_count": null,
   "metadata": {},
   "outputs": [],
   "source": [
    "%%bash\n",
    "tail -n +2 data/airflow_evo.log_repaired.csv | cut -d, -f 2 | ???"
   ]
  },
  {
   "cell_type": "markdown",
   "metadata": {
    "slideshow": {
     "slide_type": "slide"
    }
   },
   "source": [
    "# Scripted Analysis 1: \n",
    "\n",
    "## What are people doing?\n",
    "\n",
    "We can analyze the commit messages to get a feeling for what people are doing.\n",
    "\n",
    "### Why does it matter?\n",
    "\n",
    "  > If we look at the commit cloud, we see that certain terms dominate. What you'll learn right now is by no means scientific, but it's a useful heuristic: the words that stand out tell you where you spend your time.\n",
    "  >\n",
    "  > A. Tornhill _Your Code as a Crime Scene_"
   ]
  },
  {
   "cell_type": "code",
   "execution_count": null,
   "metadata": {
    "slideshow": {
     "slide_type": "fragment"
    }
   },
   "outputs": [],
   "source": [
    "%%bash\n",
    "cat data/all_commit_msgs.txt | head"
   ]
  },
  {
   "cell_type": "code",
   "execution_count": null,
   "metadata": {
    "slideshow": {
     "slide_type": "subslide"
    }
   },
   "outputs": [],
   "source": [
    "%%bash\n",
    "grep \"[Ff]ix\" data/all_commit_msgs.txt | head"
   ]
  },
  {
   "cell_type": "code",
   "execution_count": null,
   "metadata": {
    "slideshow": {
     "slide_type": "subslide"
    }
   },
   "outputs": [],
   "source": [
    "%%bash\n",
    "grep \"[Ff]ix\" data/all_commit_msgs.txt | wc -l"
   ]
  },
  {
   "cell_type": "code",
   "execution_count": null,
   "metadata": {
    "slideshow": {
     "slide_type": "fragment"
    }
   },
   "outputs": [],
   "source": [
    "%%bash\n",
    "grep \"[Ee]rror\" data/all_commit_msgs.txt | wc -l"
   ]
  },
  {
   "cell_type": "code",
   "execution_count": null,
   "metadata": {
    "slideshow": {
     "slide_type": "fragment"
    }
   },
   "outputs": [],
   "source": [
    "%%bash\n",
    "grep \"[Bb]ug\" data/all_commit_msgs.txt | wc -l"
   ]
  },
  {
   "cell_type": "markdown",
   "metadata": {
    "slideshow": {
     "slide_type": "subslide"
    }
   },
   "source": [
    "With a bit enhanced word natural-language processing (NLP) based word extraction, we can condense the following word frequencies."
   ]
  },
  {
   "cell_type": "code",
   "execution_count": null,
   "metadata": {},
   "outputs": [],
   "source": [
    "%%bash\n",
    "python word_freq.py data/all_commit_msgs.txt nlp"
   ]
  },
  {
   "cell_type": "markdown",
   "metadata": {
    "slideshow": {
     "slide_type": "subslide"
    }
   },
   "source": [
    "Let's create a wordcloud for the data."
   ]
  },
  {
   "cell_type": "code",
   "execution_count": null,
   "metadata": {},
   "outputs": [],
   "source": [
    "%%bash\n",
    "python wordcloud_gen.py data/all_commit_msgs.txt nlp"
   ]
  },
  {
   "cell_type": "code",
   "execution_count": null,
   "metadata": {
    "slideshow": {
     "slide_type": "fragment"
    }
   },
   "outputs": [],
   "source": [
    "%%bash\n",
    "ls -ltrh out"
   ]
  },
  {
   "cell_type": "markdown",
   "metadata": {},
   "source": [
    "![](out/all_commit_msgs.png)"
   ]
  },
  {
   "cell_type": "markdown",
   "metadata": {},
   "source": [
    "# Scripted Analysis 2 \n",
    "\n",
    "## Sentiment Analysis of Commit Messages\n",
    "\n",
    "### Why does it matter?\n",
    "\n",
    "Commit messages can give insight into the state of your team and likely also into the state of your software.\n",
    "\n",
    "For example they can shed light on when your team members are \"working best\" and in which setup:\n",
    "\n",
    "  > Our results show that projects developed in Java tend to have more negative commit comments, and that projects that have more distributed teams tend to have a higher positive polarity in their emotional content. Additionally, we found that commit comments written on Mondays tend to a more negative emotion.\n",
    "  >\n",
    "  > [E. Guzman et al. _\"Sentiment Analysis of Commit Comments in GitHub: An Empirical Study\"_](https://www.researchgate.net/profile/Emitza_Guzman/publication/266657943_Sentiment_analysis_of_commit_comments_in_GitHub_An_empirical_study/links/5b8305ba4585151fd134f10c/Sentiment-analysis-of-commit-comments-in-GitHub-An-empirical-study.pdf)"
   ]
  },
  {
   "cell_type": "code",
   "execution_count": null,
   "metadata": {},
   "outputs": [],
   "source": [
    "%%bash\n",
    "python commit_sentiments.py data/all_commit_msgs.csv > data/all_commit_sentiment_msgs.csv"
   ]
  },
  {
   "cell_type": "code",
   "execution_count": null,
   "metadata": {},
   "outputs": [],
   "source": [
    "%%bash\n",
    "ls -ltrh data"
   ]
  },
  {
   "cell_type": "code",
   "execution_count": null,
   "metadata": {},
   "outputs": [],
   "source": [
    "%%bash\n",
    "head data/all_commit_sentiment_msgs.csv"
   ]
  },
  {
   "cell_type": "code",
   "execution_count": null,
   "metadata": {},
   "outputs": [],
   "source": [
    "import pandas as pd\n",
    "\n",
    "\n",
    "df = pd.read_csv('data/all_commit_sentiment_msgs.csv')\n",
    "df.head()"
   ]
  },
  {
   "cell_type": "markdown",
   "metadata": {},
   "source": [
    "#### Which are the commits containing negative commit messages?"
   ]
  },
  {
   "cell_type": "code",
   "execution_count": null,
   "metadata": {},
   "outputs": [],
   "source": [
    "df[df.polarity < -0.5]"
   ]
  },
  {
   "cell_type": "markdown",
   "metadata": {},
   "source": [
    "#### Which are the commits containing positive commit messages?"
   ]
  },
  {
   "cell_type": "code",
   "execution_count": null,
   "metadata": {},
   "outputs": [],
   "source": [
    "df[df.polarity > 0.5]"
   ]
  },
  {
   "cell_type": "markdown",
   "metadata": {},
   "source": [
    "**Possible Project:**\n",
    "\n",
    "Train an NLP sentiment analysis model on a properly annotated commit history to get better results.\n",
    "\n",
    "#### Which is the commit with the most negative commit message?"
   ]
  },
  {
   "cell_type": "code",
   "execution_count": null,
   "metadata": {},
   "outputs": [],
   "source": [
    "most_negative = df[df.polarity == df.polarity.min()]\n",
    "print(most_negative.msg.values)\n",
    "most_negative"
   ]
  },
  {
   "cell_type": "markdown",
   "metadata": {},
   "source": [
    "## What is the corresponding commit?\n",
    "\n",
    "Now we are crossing information from two datasets."
   ]
  },
  {
   "cell_type": "code",
   "execution_count": null,
   "metadata": {},
   "outputs": [],
   "source": [
    "%%bash\n",
    "git -C airflow/ log d4dfe2654"
   ]
  },
  {
   "cell_type": "code",
   "execution_count": null,
   "metadata": {},
   "outputs": [],
   "source": [
    "complete_df = pd.read_csv('data/airflow_evo.log_repaired.csv')\n",
    "complete_df[complete_df.hash == most_negative.index[-1]]"
   ]
  },
  {
   "cell_type": "markdown",
   "metadata": {},
   "source": [
    "# Scripted Analysis 2 \n",
    "\n",
    "## A Project's Bus-factor\n",
    "\n",
    "\n",
    "One of the early mentions of the term in a real project [_\"If Guido was hit by a bus?\"_](https://legacy.python.org/search/hypermail/python-1994q2/1040.html)\n",
    "\n",
    "\n",
    "### Why does it matter?\n",
    "\n",
    "  > ...the number of people on your team that have to be hit by a truck (or quit) before the project is in serious trouble...\n",
    "  >\n",
    "  > L. Williams and R. Kessler, Pair Programming Illuminated. Wesley, 2003.\n",
    "Addison"
   ]
  },
  {
   "cell_type": "code",
   "execution_count": null,
   "metadata": {},
   "outputs": [],
   "source": [
    "complete_df.head()"
   ]
  },
  {
   "cell_type": "markdown",
   "metadata": {},
   "source": [
    "Let's start with computing code ownership. There are different possibilities to define and measure code ownership:\n",
    "\n",
    "a)\n",
    "  > One measure of ownership is  how  much  of  the  development  activity  for  a  component comes from one developer.  If one developer makes 80% of the changes to a component, then we say that the component has high ownership.  The other way that we measure ownership  is  by  determining  how  many  low-expertise  developers are working on a component.  If many developers are all making few changes to a component, then there are many non-experts working on the component and we label the component as having low ownership\n",
    "  >\n",
    "  > C. Bird et al. [_\"Don't Touch My Code! Examining the Effects of Ownership on Software Quality\"_]( https://www.microsoft.com/en-us/research/wp-content/uploads/2016/02/bird2011dtm.pdf)\n",
    "\n",
    "\n",
    "  > Proportion of Ownership – The proportion of ownership  (or  simply  ownership)  of  a  contributor  for a particular component is the ratio of number of commits that the contributor has made relative to the total number of commits for that component.\n",
    "  >\n",
    "  > C. Bird et al. [_\"Don't Touch My Code! Examining the Effects of Ownership on Software Quality\"_]( https://www.microsoft.com/en-us/research/wp-content/uploads/2016/02/bird2011dtm.pdf)\n",
    "\n",
    "b)\n",
    "\n",
    "There are more elaborate measures for code ownership in the literature, for example:\n",
    "\n",
    "  > $DOA = 3.293 + 1.098 ∗ FA + 0.164 ∗ DL − 0.321 ∗ ln(1 + AC )$\n",
    "  >\n",
    "  > The degree of authorship of a developer d in a file f depends on three factors: first authorship (FA), number of deliveries (DL), and number of acceptances (AC). If d is the author of f, FA is 1; otherwise it is 0; DL is the number of changes in f made by D; and AC is the number of changes in f made by other developers.\n",
    "  > \n",
    "  > [G. Avelino et al. _What is the Truck Factor of Popular GitHub Applications? A First Assessment_](https://peerj.com/preprints/1233.pdf)\n",
    "  \n",
    "c) \n",
    "\n",
    "In *Your Code as a Crime Scene*, A. Tornhill suggests to compute a simple measure -which he calls it *knowledge ownership*- that counts the total amount of lines added through the history of a file. And additionally, per author the amounts of lines added by that author. Out of the two values he computes a the _knowledge ownership_ rate.\n",
    "\n",
    "\n",
    "\n",
    "For the following example, we go for the latter definition and in our computation we just say that the author with the highest _knowledge ownership_ rate on a file \"owns\" that file."
   ]
  },
  {
   "cell_type": "code",
   "execution_count": null,
   "metadata": {},
   "outputs": [],
   "source": [
    "complete_df.head()"
   ]
  },
  {
   "cell_type": "code",
   "execution_count": null,
   "metadata": {},
   "outputs": [],
   "source": [
    "fname = 'INTHEWILD.md'\n",
    "complete_df[complete_df.current == fname]"
   ]
  },
  {
   "cell_type": "code",
   "execution_count": null,
   "metadata": {},
   "outputs": [],
   "source": [
    "new_rows = []\n",
    "\n",
    "for fname in set(complete_df.current.values):\n",
    "    view = complete_df[complete_df.current == fname]\n",
    "    sum_series = view.groupby(['author']).added.sum()\n",
    "    view_df = sum_series.reset_index(name='sum_added')\n",
    "    total_added = view_df.sum_added.sum()\n",
    "    \n",
    "    if total_added > 0:  # For binaries there are no lines counted\n",
    "        view_df['owning_percent'] = view_df.sum_added / total_added\n",
    "        owning_author = view_df.loc[view_df.owning_percent.idxmax()]\n",
    "        new_rows.append((fname, owning_author.author, owning_author.sum_added,\n",
    "                         total_added, owning_author.owning_percent))\n",
    "    # All binaries are silently skipped in this report..."
   ]
  },
  {
   "cell_type": "code",
   "execution_count": null,
   "metadata": {},
   "outputs": [],
   "source": [
    "owner_df = pd.DataFrame(new_rows, columns=['artifact', 'main_dev', 'added', 'total_added', 'owner_rate'])\n",
    "owner_df.head()"
   ]
  },
  {
   "cell_type": "code",
   "execution_count": null,
   "metadata": {},
   "outputs": [],
   "source": [
    "owner_freq_series = owner_df.groupby(['main_dev']).artifact.count()\n",
    "owner_freq_series"
   ]
  },
  {
   "cell_type": "code",
   "execution_count": null,
   "metadata": {},
   "outputs": [],
   "source": [
    "owner_freq_df = owner_freq_series.reset_index(name='owns_no_artifacts')\n",
    "owner_freq_df.sort_values(by='owns_no_artifacts', inplace=True)\n",
    "owner_freq_df"
   ]
  },
  {
   "cell_type": "code",
   "execution_count": null,
   "metadata": {
    "scrolled": true
   },
   "outputs": [],
   "source": [
    "%matplotlib inline\n",
    "import matplotlib.pyplot as plt\n",
    "\n",
    "\n",
    "fig = plt.figure(figsize=(12, 3))\n",
    "plt.xticks(rotation=45)\n",
    "plt.xticks(size=3)\n",
    "plt.plot(owner_freq_df.main_dev, owner_freq_df.owns_no_artifacts)"
   ]
  },
  {
   "cell_type": "markdown",
   "metadata": {},
   "source": [
    "Now, we can -similar to \n",
    "<a href=\"https://ieeexplore.ieee.org/stamp)/stamp.jsp?arnumber=7503718\">G. Avelino et al. *A novel approach for estimating Truck Factors*</a>- start \"removing\" low-contributing authors from the dataset as long as still more than half of the files have an owner. The amount of remaining owners is the bus-factor of that project."
   ]
  },
  {
   "cell_type": "code",
   "execution_count": null,
   "metadata": {},
   "outputs": [],
   "source": [
    "no_artifacts = len(owner_df.artifact)\n",
    "half_no_artifacts = no_artifacts // 2\n",
    "count = 0\n",
    "\n",
    "for owner, freq in owner_freq_df.values:\n",
    "    no_artifacts -= freq\n",
    "    if no_artifacts < half_no_artifacts:\n",
    "        break\n",
    "    else:\n",
    "        count += 1\n",
    "\n",
    "busfactor = len(owner_freq_df.main_dev) - count\n",
    "print(f\"The bus factor of Apache Airflow is: {busfactor}\")"
   ]
  },
  {
   "cell_type": "markdown",
   "metadata": {},
   "source": [
    "# Git Analysis Beyound Shell-Scripts\n",
    "\n",
    "## Co-changeing files Analysis\n",
    "\n",
    "### Why does it matter?\n",
    "\n",
    "\n",
    "  > Our software evolution analysis approach enabled us to detect shortcomings of [software] such as architectural weaknesses, poorly designed inheritance hierarchies, or blurred interfaces of modules.\n",
    "  >\n",
    "  > H. Gall et al. _CVS release history data for detecting logical couplings_\n"
   ]
  },
  {
   "cell_type": "markdown",
   "metadata": {},
   "source": [
    "Basic usage example of `PyDriller`:\n",
    "\n",
    "  > PyDriller is a Python framework that helps developers on mining software repositories. With PyDriller you can easily extract information from any Git repository, such as commits, developers, modifications, diffs, and source codes, and quickly export CSV files.\n",
    "  >\n",
    "  > https://pydriller.readthedocs.io/"
   ]
  },
  {
   "cell_type": "code",
   "execution_count": 66,
   "metadata": {},
   "outputs": [
    {
     "name": "stdout",
     "output_type": "stream",
     "text": [
      "7dfb1f7f4847a4d316159882127cf09f6aead552 2019-08-26 20:54:17-07:00 dependabot[bot]\n",
      "5bfd7f481cbb9a997d33281eab945e2074f47c52 2019-08-28 20:04:12-07:00 dependabot[bot]\n",
      "8107651f8f578cc98801f37ae50ebc6be9e9d035 2019-12-14 17:25:41+00:00 dependabot[bot]\n",
      "7dd7be31646a344b2d79763c3ce70319635f8a4d 2020-09-12 00:10:28+01:00 dependabot[bot]\n",
      "1a56a58a0b70d02840aa53e659a5dc0c38bfd3f5 2020-12-12 09:22:45+00:00 dependabot[bot]\n",
      "1be20c614f22d6413d18d492d78d9886cdb9f5c8 2020-12-18 12:45:03-05:00 dependabot[bot]\n",
      "cb6914509f65f0041308288e7c6614b6c1cc735b 2020-12-21 11:49:52+00:00 dependabot[bot]\n",
      "6851677a89294698cbdf9fa559bf9d12983c88e0 2021-03-10 15:06:42-05:00 dependabot[bot]\n",
      "edbc89c64033517fd6ff156067bc572811bfe3ac 2021-05-03 20:07:33-07:00 dependabot[bot]\n",
      "b09d9235ef99430e3e896f08069a48628f190908 2022-04-07 00:23:53+01:00 dependabot[bot]\n",
      "0592bfd85631ed3109d68c8ec9aa57f0465d90b3 2022-04-07 00:24:27+01:00 dependabot[bot]\n",
      "bb27d45c43834a58624a73a72bdedbedbe8d7eb4 2022-04-07 08:48:43-05:00 dependabot[bot]\n",
      "309eb0b86015881db5c60690d8faa9737dff808d 2022-04-07 08:50:58-05:00 dependabot[bot]\n",
      "0dbca5d91fc24b2b0747bfdf3d2f58efa5e410d1 2022-04-07 09:09:04-05:00 dependabot[bot]\n",
      "8fa7d79575dde139978a2c00514d0ff421fdb062 2022-04-07 09:11:29-05:00 dependabot[bot]\n",
      "1f29d844411522e9a2cd4a14c3573e903b4e5074 2022-04-07 13:42:10-05:00 dependabot[bot]\n",
      "755002eb602a49af4de383713505432f4196c568 2022-04-09 10:43:04-05:00 dependabot[bot]\n",
      "8cf1cb3e04bc73cba7fc5ef90a2241f86dea95e5 2022-04-15 09:38:26-05:00 dependabot[bot]\n",
      "7f264f09dda86fbf5ce2b57141745453f27d57bd 2022-06-01 07:54:48-04:00 dependabot[bot]\n",
      "f69e597dfcbb6fa7e7f1a3ff2b5013638567abc3 2022-07-08 10:11:35-04:00 dependabot[bot]\n",
      "d2c626ae3901f93b15fa1f662778c7666de2e6a0 2022-08-01 22:54:22+02:00 dependabot[bot]\n",
      "9c632684341fb3115d654aecb83aa951d80b19af 2022-08-02 21:37:36+02:00 dependabot[bot]\n",
      "b535262837994ef3faf3993da8f246cce6cfd3d2 2022-08-19 10:44:27-04:00 dependabot[bot]\n",
      "977c6de7b84b7efadd169e770e2d82d7acace3ba 2022-08-22 11:59:21-04:00 dependabot[bot]\n",
      "659dea555b0ec94a0654e7b683b6345a1c7d3af3 2022-08-22 12:00:07-04:00 dependabot[bot]\n",
      "3199ffca9d5ac66974e2f7c8747678d2c5b95cb3 2022-08-22 12:00:18-04:00 dependabot[bot]\n",
      "4f8edc2bf36f31a0f1794a0cf36e1b2562372aef 2022-08-22 12:00:26-04:00 dependabot[bot]\n",
      "8c8acd3c6172d25ba8d4f78c2ab1936ccbfbd3e5 2022-08-22 12:01:10-04:00 dependabot[bot]\n",
      "a7cc4678177f25ce2899da8d96813fee05871bbb 2022-08-22 13:31:58-04:00 dependabot[bot]\n",
      "57a6843ce045cce1c2179b65d3cec06f2ff19a05 2022-08-31 09:27:26-04:00 dependabot[bot]\n"
     ]
    }
   ],
   "source": [
    "from pydriller import Repository\n",
    "\n",
    "\n",
    "path_to_repo = \"./airflow\"\n",
    "for commit in Repository(path_to_repo).traverse_commits():\n",
    "    if \"[bot]\" in commit.author.name:\n",
    "        print(commit.hash, commit.author_date, commit.author.name)"
   ]
  },
  {
   "cell_type": "code",
   "execution_count": 68,
   "metadata": {},
   "outputs": [
    {
     "name": "stderr",
     "output_type": "stream",
     "text": [
      "286it [00:57,  4.98it/s]\n"
     ]
    }
   ],
   "source": [
    "import pandas as pd\n",
    "from tqdm import tqdm\n",
    "from datetime import datetime\n",
    "\n",
    "\n",
    "\n",
    "def commits_to_df(path_to_repo, from_dt=None, to_dt=None):\n",
    "    commits = []\n",
    "    if from_dt and to_dt:\n",
    "        repo = Repository(path_to_repo, since=from_dt, to=to_dt)\n",
    "    else:\n",
    "        repo = Repository(path_to_repo)\n",
    "    for commit in tqdm(repo.traverse_commits()):\n",
    "        for f in commit.modified_files:\n",
    "            commits.append((commit.hash, commit.author_date, commit.author.name, f.old_path, f.new_path))\n",
    "    df = pd.DataFrame(commits, columns=[\"sha\", \"date\", \"author\", \"old_path\", \"new_path\"])\n",
    "    return df\n",
    "\n",
    "\n",
    "df = commits_to_df(path_to_repo, from_dt=datetime(2021, 1, 1, 0, 0, 0), to_dt=datetime(2021, 2, 1, 0, 0, 0))"
   ]
  },
  {
   "cell_type": "code",
   "execution_count": 69,
   "metadata": {},
   "outputs": [
    {
     "data": {
      "text/html": [
       "<div>\n",
       "<style scoped>\n",
       "    .dataframe tbody tr th:only-of-type {\n",
       "        vertical-align: middle;\n",
       "    }\n",
       "\n",
       "    .dataframe tbody tr th {\n",
       "        vertical-align: top;\n",
       "    }\n",
       "\n",
       "    .dataframe thead th {\n",
       "        text-align: right;\n",
       "    }\n",
       "</style>\n",
       "<table border=\"1\" class=\"dataframe\">\n",
       "  <thead>\n",
       "    <tr style=\"text-align: right;\">\n",
       "      <th></th>\n",
       "      <th>sha</th>\n",
       "      <th>date</th>\n",
       "      <th>author</th>\n",
       "      <th>old_path</th>\n",
       "      <th>new_path</th>\n",
       "    </tr>\n",
       "  </thead>\n",
       "  <tbody>\n",
       "    <tr>\n",
       "      <th>0</th>\n",
       "      <td>f6a3c822a37265e1b8a35691e00342e715af648c</td>\n",
       "      <td>2021-01-01 06:06:02+01:00</td>\n",
       "      <td>Kamil Breguła</td>\n",
       "      <td>airflow/www/ask_for_recompile_assets_if_needed.sh</td>\n",
       "      <td>airflow/www/ask_for_recompile_assets_if_needed.sh</td>\n",
       "    </tr>\n",
       "    <tr>\n",
       "      <th>1</th>\n",
       "      <td>181d8b66a982c813836968e325692e754ddd848c</td>\n",
       "      <td>2021-01-01 10:26:59+05:18</td>\n",
       "      <td>Vivek Bhojawala</td>\n",
       "      <td>CONTRIBUTING.rst</td>\n",
       "      <td>CONTRIBUTING.rst</td>\n",
       "    </tr>\n",
       "    <tr>\n",
       "      <th>2</th>\n",
       "      <td>181d8b66a982c813836968e325692e754ddd848c</td>\n",
       "      <td>2021-01-01 10:26:59+05:18</td>\n",
       "      <td>Vivek Bhojawala</td>\n",
       "      <td>None</td>\n",
       "      <td>CONTRIBUTORS_QUICK_START.rst</td>\n",
       "    </tr>\n",
       "    <tr>\n",
       "      <th>3</th>\n",
       "      <td>181d8b66a982c813836968e325692e754ddd848c</td>\n",
       "      <td>2021-01-01 10:26:59+05:18</td>\n",
       "      <td>Vivek Bhojawala</td>\n",
       "      <td>images/quick_start/add Interpreter.png</td>\n",
       "      <td>images/quick_start/add Interpreter.png</td>\n",
       "    </tr>\n",
       "    <tr>\n",
       "      <th>4</th>\n",
       "      <td>181d8b66a982c813836968e325692e754ddd848c</td>\n",
       "      <td>2021-01-01 10:26:59+05:18</td>\n",
       "      <td>Vivek Bhojawala</td>\n",
       "      <td>images/quick_start/add_configuration.png</td>\n",
       "      <td>images/quick_start/add_configuration.png</td>\n",
       "    </tr>\n",
       "    <tr>\n",
       "      <th>...</th>\n",
       "      <td>...</td>\n",
       "      <td>...</td>\n",
       "      <td>...</td>\n",
       "      <td>...</td>\n",
       "      <td>...</td>\n",
       "    </tr>\n",
       "    <tr>\n",
       "      <th>1676</th>\n",
       "      <td>7c9cc41f85a909645840c7c307954b7e7420b916</td>\n",
       "      <td>2021-01-31 15:03:07+07:00</td>\n",
       "      <td>Imam Digmi</td>\n",
       "      <td>INTHEWILD.md</td>\n",
       "      <td>INTHEWILD.md</td>\n",
       "    </tr>\n",
       "    <tr>\n",
       "      <th>1677</th>\n",
       "      <td>9840e406fd20b91959d603a42f381b014e86d2b3</td>\n",
       "      <td>2021-01-31 09:11:52+00:00</td>\n",
       "      <td>Kaxil Naik</td>\n",
       "      <td>tests/www/test_views.py</td>\n",
       "      <td>tests/www/test_views.py</td>\n",
       "    </tr>\n",
       "    <tr>\n",
       "      <th>1678</th>\n",
       "      <td>8eddc8b5019890a712810b8e5b1185997adb9bf4</td>\n",
       "      <td>2021-01-31 17:39:55+01:00</td>\n",
       "      <td>Ephraim Anierobi</td>\n",
       "      <td>scripts/in_container/entrypoint_exec.sh</td>\n",
       "      <td>scripts/in_container/entrypoint_exec.sh</td>\n",
       "    </tr>\n",
       "    <tr>\n",
       "      <th>1679</th>\n",
       "      <td>ba54afe58b7cbd3711aca23252027fbd034cca41</td>\n",
       "      <td>2021-01-31 20:23:45+01:00</td>\n",
       "      <td>Danilo Trombino</td>\n",
       "      <td>airflow/providers/docker/operators/docker.py</td>\n",
       "      <td>airflow/providers/docker/operators/docker.py</td>\n",
       "    </tr>\n",
       "    <tr>\n",
       "      <th>1680</th>\n",
       "      <td>ba54afe58b7cbd3711aca23252027fbd034cca41</td>\n",
       "      <td>2021-01-31 20:23:45+01:00</td>\n",
       "      <td>Danilo Trombino</td>\n",
       "      <td>tests/providers/docker/operators/test_docker.py</td>\n",
       "      <td>tests/providers/docker/operators/test_docker.py</td>\n",
       "    </tr>\n",
       "  </tbody>\n",
       "</table>\n",
       "<p>1681 rows × 5 columns</p>\n",
       "</div>"
      ],
      "text/plain": [
       "                                           sha                       date  \\\n",
       "0     f6a3c822a37265e1b8a35691e00342e715af648c  2021-01-01 06:06:02+01:00   \n",
       "1     181d8b66a982c813836968e325692e754ddd848c  2021-01-01 10:26:59+05:18   \n",
       "2     181d8b66a982c813836968e325692e754ddd848c  2021-01-01 10:26:59+05:18   \n",
       "3     181d8b66a982c813836968e325692e754ddd848c  2021-01-01 10:26:59+05:18   \n",
       "4     181d8b66a982c813836968e325692e754ddd848c  2021-01-01 10:26:59+05:18   \n",
       "...                                        ...                        ...   \n",
       "1676  7c9cc41f85a909645840c7c307954b7e7420b916  2021-01-31 15:03:07+07:00   \n",
       "1677  9840e406fd20b91959d603a42f381b014e86d2b3  2021-01-31 09:11:52+00:00   \n",
       "1678  8eddc8b5019890a712810b8e5b1185997adb9bf4  2021-01-31 17:39:55+01:00   \n",
       "1679  ba54afe58b7cbd3711aca23252027fbd034cca41  2021-01-31 20:23:45+01:00   \n",
       "1680  ba54afe58b7cbd3711aca23252027fbd034cca41  2021-01-31 20:23:45+01:00   \n",
       "\n",
       "                author                                           old_path  \\\n",
       "0        Kamil Breguła  airflow/www/ask_for_recompile_assets_if_needed.sh   \n",
       "1      Vivek Bhojawala                                   CONTRIBUTING.rst   \n",
       "2      Vivek Bhojawala                                               None   \n",
       "3      Vivek Bhojawala             images/quick_start/add Interpreter.png   \n",
       "4      Vivek Bhojawala           images/quick_start/add_configuration.png   \n",
       "...                ...                                                ...   \n",
       "1676        Imam Digmi                                       INTHEWILD.md   \n",
       "1677        Kaxil Naik                            tests/www/test_views.py   \n",
       "1678  Ephraim Anierobi            scripts/in_container/entrypoint_exec.sh   \n",
       "1679   Danilo Trombino       airflow/providers/docker/operators/docker.py   \n",
       "1680   Danilo Trombino    tests/providers/docker/operators/test_docker.py   \n",
       "\n",
       "                                               new_path  \n",
       "0     airflow/www/ask_for_recompile_assets_if_needed.sh  \n",
       "1                                      CONTRIBUTING.rst  \n",
       "2                          CONTRIBUTORS_QUICK_START.rst  \n",
       "3                images/quick_start/add Interpreter.png  \n",
       "4              images/quick_start/add_configuration.png  \n",
       "...                                                 ...  \n",
       "1676                                       INTHEWILD.md  \n",
       "1677                            tests/www/test_views.py  \n",
       "1678            scripts/in_container/entrypoint_exec.sh  \n",
       "1679       airflow/providers/docker/operators/docker.py  \n",
       "1680    tests/providers/docker/operators/test_docker.py  \n",
       "\n",
       "[1681 rows x 5 columns]"
      ]
     },
     "execution_count": 69,
     "metadata": {},
     "output_type": "execute_result"
    }
   ],
   "source": [
    "df"
   ]
  },
  {
   "cell_type": "code",
   "execution_count": 70,
   "metadata": {},
   "outputs": [
    {
     "name": "stderr",
     "output_type": "stream",
     "text": [
      "/tmp/ipykernel_842175/240404332.py:2: SettingWithCopyWarning: \n",
      "A value is trying to be set on a copy of a slice from a DataFrame\n",
      "\n",
      "See the caveats in the documentation: https://pandas.pydata.org/pandas-docs/stable/user_guide/indexing.html#returning-a-view-versus-a-copy\n",
      "  df.drop(\"old_path\", axis=1, inplace=True)\n",
      "/tmp/ipykernel_842175/240404332.py:3: SettingWithCopyWarning: \n",
      "A value is trying to be set on a copy of a slice from a DataFrame\n",
      "\n",
      "See the caveats in the documentation: https://pandas.pydata.org/pandas-docs/stable/user_guide/indexing.html#returning-a-view-versus-a-copy\n",
      "  df.rename(columns = {\"new_path\":\"path\"}, inplace=True)\n"
     ]
    }
   ],
   "source": [
    "df = df[(df.old_path == df.new_path) & (df.new_path.str.endswith(\".py\"))]\n",
    "df.drop(\"old_path\", axis=1, inplace=True)\n",
    "df.rename(columns = {\"new_path\":\"path\"}, inplace=True)"
   ]
  },
  {
   "cell_type": "code",
   "execution_count": 71,
   "metadata": {},
   "outputs": [
    {
     "data": {
      "text/html": [
       "<div>\n",
       "<style scoped>\n",
       "    .dataframe tbody tr th:only-of-type {\n",
       "        vertical-align: middle;\n",
       "    }\n",
       "\n",
       "    .dataframe tbody tr th {\n",
       "        vertical-align: top;\n",
       "    }\n",
       "\n",
       "    .dataframe thead th {\n",
       "        text-align: right;\n",
       "    }\n",
       "</style>\n",
       "<table border=\"1\" class=\"dataframe\">\n",
       "  <thead>\n",
       "    <tr style=\"text-align: right;\">\n",
       "      <th></th>\n",
       "      <th>sha</th>\n",
       "      <th>date</th>\n",
       "      <th>author</th>\n",
       "      <th>path</th>\n",
       "    </tr>\n",
       "  </thead>\n",
       "  <tbody>\n",
       "    <tr>\n",
       "      <th>23</th>\n",
       "      <td>abf34b8aba33db4e751db44194429aeb2e8791c0</td>\n",
       "      <td>2020-12-31 23:59:00-08:00</td>\n",
       "      <td>Kuba Tyszko</td>\n",
       "      <td>airflow/providers/openfaas/hooks/openfaas.py</td>\n",
       "    </tr>\n",
       "    <tr>\n",
       "      <th>24</th>\n",
       "      <td>abf34b8aba33db4e751db44194429aeb2e8791c0</td>\n",
       "      <td>2020-12-31 23:59:00-08:00</td>\n",
       "      <td>Kuba Tyszko</td>\n",
       "      <td>tests/providers/openfaas/hooks/test_openfaas.py</td>\n",
       "    </tr>\n",
       "    <tr>\n",
       "      <th>31</th>\n",
       "      <td>c674f81cb7ff3453dd2ce693dc047688581c4edd</td>\n",
       "      <td>2021-01-02 02:17:14+01:00</td>\n",
       "      <td>Kamil Breguła</td>\n",
       "      <td>docs/build_docs.py</td>\n",
       "    </tr>\n",
       "    <tr>\n",
       "      <th>32</th>\n",
       "      <td>c674f81cb7ff3453dd2ce693dc047688581c4edd</td>\n",
       "      <td>2021-01-02 02:17:14+01:00</td>\n",
       "      <td>Kamil Breguła</td>\n",
       "      <td>docs/exts/docs_build/docs_builder.py</td>\n",
       "    </tr>\n",
       "    <tr>\n",
       "      <th>41</th>\n",
       "      <td>f7a1334abe4417409498daad52c97d3f0eb95137</td>\n",
       "      <td>2021-01-02 11:32:07+01:00</td>\n",
       "      <td>Adrián Matellanes</td>\n",
       "      <td>airflow/providers/amazon/aws/transfers/mongo_t...</td>\n",
       "    </tr>\n",
       "  </tbody>\n",
       "</table>\n",
       "</div>"
      ],
      "text/plain": [
       "                                         sha                       date  \\\n",
       "23  abf34b8aba33db4e751db44194429aeb2e8791c0  2020-12-31 23:59:00-08:00   \n",
       "24  abf34b8aba33db4e751db44194429aeb2e8791c0  2020-12-31 23:59:00-08:00   \n",
       "31  c674f81cb7ff3453dd2ce693dc047688581c4edd  2021-01-02 02:17:14+01:00   \n",
       "32  c674f81cb7ff3453dd2ce693dc047688581c4edd  2021-01-02 02:17:14+01:00   \n",
       "41  f7a1334abe4417409498daad52c97d3f0eb95137  2021-01-02 11:32:07+01:00   \n",
       "\n",
       "               author                                               path  \n",
       "23        Kuba Tyszko       airflow/providers/openfaas/hooks/openfaas.py  \n",
       "24        Kuba Tyszko    tests/providers/openfaas/hooks/test_openfaas.py  \n",
       "31      Kamil Breguła                                 docs/build_docs.py  \n",
       "32      Kamil Breguła               docs/exts/docs_build/docs_builder.py  \n",
       "41  Adrián Matellanes  airflow/providers/amazon/aws/transfers/mongo_t...  "
      ]
     },
     "execution_count": 71,
     "metadata": {},
     "output_type": "execute_result"
    }
   ],
   "source": [
    "df.head()"
   ]
  },
  {
   "cell_type": "markdown",
   "metadata": {},
   "source": [
    "The following code is adapted from https://www.feststelltaste.de/spotting-co-changing-files/"
   ]
  },
  {
   "cell_type": "code",
   "execution_count": 72,
   "metadata": {},
   "outputs": [
    {
     "data": {
      "text/html": [
       "<div>\n",
       "<style scoped>\n",
       "    .dataframe tbody tr th:only-of-type {\n",
       "        vertical-align: middle;\n",
       "    }\n",
       "\n",
       "    .dataframe tbody tr th {\n",
       "        vertical-align: top;\n",
       "    }\n",
       "\n",
       "    .dataframe thead th {\n",
       "        text-align: right;\n",
       "    }\n",
       "</style>\n",
       "<table border=\"1\" class=\"dataframe\">\n",
       "  <thead>\n",
       "    <tr style=\"text-align: right;\">\n",
       "      <th></th>\n",
       "      <th>sha</th>\n",
       "      <th>path</th>\n",
       "      <th>path_other</th>\n",
       "    </tr>\n",
       "  </thead>\n",
       "  <tbody>\n",
       "    <tr>\n",
       "      <th>0</th>\n",
       "      <td>abf34b8aba33db4e751db44194429aeb2e8791c0</td>\n",
       "      <td>airflow/providers/openfaas/hooks/openfaas.py</td>\n",
       "      <td>airflow/providers/openfaas/hooks/openfaas.py</td>\n",
       "    </tr>\n",
       "    <tr>\n",
       "      <th>1</th>\n",
       "      <td>abf34b8aba33db4e751db44194429aeb2e8791c0</td>\n",
       "      <td>airflow/providers/openfaas/hooks/openfaas.py</td>\n",
       "      <td>tests/providers/openfaas/hooks/test_openfaas.py</td>\n",
       "    </tr>\n",
       "    <tr>\n",
       "      <th>2</th>\n",
       "      <td>abf34b8aba33db4e751db44194429aeb2e8791c0</td>\n",
       "      <td>tests/providers/openfaas/hooks/test_openfaas.py</td>\n",
       "      <td>airflow/providers/openfaas/hooks/openfaas.py</td>\n",
       "    </tr>\n",
       "    <tr>\n",
       "      <th>3</th>\n",
       "      <td>abf34b8aba33db4e751db44194429aeb2e8791c0</td>\n",
       "      <td>tests/providers/openfaas/hooks/test_openfaas.py</td>\n",
       "      <td>tests/providers/openfaas/hooks/test_openfaas.py</td>\n",
       "    </tr>\n",
       "    <tr>\n",
       "      <th>4</th>\n",
       "      <td>c674f81cb7ff3453dd2ce693dc047688581c4edd</td>\n",
       "      <td>docs/build_docs.py</td>\n",
       "      <td>docs/build_docs.py</td>\n",
       "    </tr>\n",
       "  </tbody>\n",
       "</table>\n",
       "</div>"
      ],
      "text/plain": [
       "                                        sha  \\\n",
       "0  abf34b8aba33db4e751db44194429aeb2e8791c0   \n",
       "1  abf34b8aba33db4e751db44194429aeb2e8791c0   \n",
       "2  abf34b8aba33db4e751db44194429aeb2e8791c0   \n",
       "3  abf34b8aba33db4e751db44194429aeb2e8791c0   \n",
       "4  c674f81cb7ff3453dd2ce693dc047688581c4edd   \n",
       "\n",
       "                                              path  \\\n",
       "0     airflow/providers/openfaas/hooks/openfaas.py   \n",
       "1     airflow/providers/openfaas/hooks/openfaas.py   \n",
       "2  tests/providers/openfaas/hooks/test_openfaas.py   \n",
       "3  tests/providers/openfaas/hooks/test_openfaas.py   \n",
       "4                               docs/build_docs.py   \n",
       "\n",
       "                                        path_other  \n",
       "0     airflow/providers/openfaas/hooks/openfaas.py  \n",
       "1  tests/providers/openfaas/hooks/test_openfaas.py  \n",
       "2     airflow/providers/openfaas/hooks/openfaas.py  \n",
       "3  tests/providers/openfaas/hooks/test_openfaas.py  \n",
       "4                               docs/build_docs.py  "
      ]
     },
     "execution_count": 72,
     "metadata": {},
     "output_type": "execute_result"
    }
   ],
   "source": [
    "commits_df = pd.merge(df[[\"sha\", \"path\"]], df[[\"sha\", \"path\"]], left_on='sha', right_on='sha', suffixes=['','_other'], how='outer')\n",
    "commits_df.head()"
   ]
  },
  {
   "cell_type": "code",
   "execution_count": 73,
   "metadata": {},
   "outputs": [
    {
     "data": {
      "text/html": [
       "<div>\n",
       "<style scoped>\n",
       "    .dataframe tbody tr th:only-of-type {\n",
       "        vertical-align: middle;\n",
       "    }\n",
       "\n",
       "    .dataframe tbody tr th {\n",
       "        vertical-align: top;\n",
       "    }\n",
       "\n",
       "    .dataframe thead th {\n",
       "        text-align: right;\n",
       "    }\n",
       "</style>\n",
       "<table border=\"1\" class=\"dataframe\">\n",
       "  <thead>\n",
       "    <tr style=\"text-align: right;\">\n",
       "      <th></th>\n",
       "      <th>sha</th>\n",
       "      <th>path</th>\n",
       "      <th>path_other</th>\n",
       "    </tr>\n",
       "  </thead>\n",
       "  <tbody>\n",
       "    <tr>\n",
       "      <th>1</th>\n",
       "      <td>abf34b8aba33db4e751db44194429aeb2e8791c0</td>\n",
       "      <td>airflow/providers/openfaas/hooks/openfaas.py</td>\n",
       "      <td>tests/providers/openfaas/hooks/test_openfaas.py</td>\n",
       "    </tr>\n",
       "    <tr>\n",
       "      <th>2</th>\n",
       "      <td>abf34b8aba33db4e751db44194429aeb2e8791c0</td>\n",
       "      <td>tests/providers/openfaas/hooks/test_openfaas.py</td>\n",
       "      <td>airflow/providers/openfaas/hooks/openfaas.py</td>\n",
       "    </tr>\n",
       "    <tr>\n",
       "      <th>5</th>\n",
       "      <td>c674f81cb7ff3453dd2ce693dc047688581c4edd</td>\n",
       "      <td>docs/build_docs.py</td>\n",
       "      <td>docs/exts/docs_build/docs_builder.py</td>\n",
       "    </tr>\n",
       "    <tr>\n",
       "      <th>6</th>\n",
       "      <td>c674f81cb7ff3453dd2ce693dc047688581c4edd</td>\n",
       "      <td>docs/exts/docs_build/docs_builder.py</td>\n",
       "      <td>docs/build_docs.py</td>\n",
       "    </tr>\n",
       "    <tr>\n",
       "      <th>9</th>\n",
       "      <td>f7a1334abe4417409498daad52c97d3f0eb95137</td>\n",
       "      <td>airflow/providers/amazon/aws/transfers/mongo_t...</td>\n",
       "      <td>tests/providers/amazon/aws/transfers/test_mong...</td>\n",
       "    </tr>\n",
       "    <tr>\n",
       "      <th>...</th>\n",
       "      <td>...</td>\n",
       "      <td>...</td>\n",
       "      <td>...</td>\n",
       "    </tr>\n",
       "    <tr>\n",
       "      <th>300625</th>\n",
       "      <td>70345293031b56a6ce4019efe66ea9762d96c316</td>\n",
       "      <td>tests/jobs/test_scheduler_job.py</td>\n",
       "      <td>airflow/models/dagbag.py</td>\n",
       "    </tr>\n",
       "    <tr>\n",
       "      <th>300626</th>\n",
       "      <td>70345293031b56a6ce4019efe66ea9762d96c316</td>\n",
       "      <td>tests/jobs/test_scheduler_job.py</td>\n",
       "      <td>airflow/models/serialized_dag.py</td>\n",
       "    </tr>\n",
       "    <tr>\n",
       "      <th>300627</th>\n",
       "      <td>70345293031b56a6ce4019efe66ea9762d96c316</td>\n",
       "      <td>tests/jobs/test_scheduler_job.py</td>\n",
       "      <td>airflow/serialization/serialized_objects.py</td>\n",
       "    </tr>\n",
       "    <tr>\n",
       "      <th>300631</th>\n",
       "      <td>ba54afe58b7cbd3711aca23252027fbd034cca41</td>\n",
       "      <td>airflow/providers/docker/operators/docker.py</td>\n",
       "      <td>tests/providers/docker/operators/test_docker.py</td>\n",
       "    </tr>\n",
       "    <tr>\n",
       "      <th>300632</th>\n",
       "      <td>ba54afe58b7cbd3711aca23252027fbd034cca41</td>\n",
       "      <td>tests/providers/docker/operators/test_docker.py</td>\n",
       "      <td>airflow/providers/docker/operators/docker.py</td>\n",
       "    </tr>\n",
       "  </tbody>\n",
       "</table>\n",
       "<p>299628 rows × 3 columns</p>\n",
       "</div>"
      ],
      "text/plain": [
       "                                             sha  \\\n",
       "1       abf34b8aba33db4e751db44194429aeb2e8791c0   \n",
       "2       abf34b8aba33db4e751db44194429aeb2e8791c0   \n",
       "5       c674f81cb7ff3453dd2ce693dc047688581c4edd   \n",
       "6       c674f81cb7ff3453dd2ce693dc047688581c4edd   \n",
       "9       f7a1334abe4417409498daad52c97d3f0eb95137   \n",
       "...                                          ...   \n",
       "300625  70345293031b56a6ce4019efe66ea9762d96c316   \n",
       "300626  70345293031b56a6ce4019efe66ea9762d96c316   \n",
       "300627  70345293031b56a6ce4019efe66ea9762d96c316   \n",
       "300631  ba54afe58b7cbd3711aca23252027fbd034cca41   \n",
       "300632  ba54afe58b7cbd3711aca23252027fbd034cca41   \n",
       "\n",
       "                                                     path  \\\n",
       "1            airflow/providers/openfaas/hooks/openfaas.py   \n",
       "2         tests/providers/openfaas/hooks/test_openfaas.py   \n",
       "5                                      docs/build_docs.py   \n",
       "6                    docs/exts/docs_build/docs_builder.py   \n",
       "9       airflow/providers/amazon/aws/transfers/mongo_t...   \n",
       "...                                                   ...   \n",
       "300625                   tests/jobs/test_scheduler_job.py   \n",
       "300626                   tests/jobs/test_scheduler_job.py   \n",
       "300627                   tests/jobs/test_scheduler_job.py   \n",
       "300631       airflow/providers/docker/operators/docker.py   \n",
       "300632    tests/providers/docker/operators/test_docker.py   \n",
       "\n",
       "                                               path_other  \n",
       "1         tests/providers/openfaas/hooks/test_openfaas.py  \n",
       "2            airflow/providers/openfaas/hooks/openfaas.py  \n",
       "5                    docs/exts/docs_build/docs_builder.py  \n",
       "6                                      docs/build_docs.py  \n",
       "9       tests/providers/amazon/aws/transfers/test_mong...  \n",
       "...                                                   ...  \n",
       "300625                           airflow/models/dagbag.py  \n",
       "300626                   airflow/models/serialized_dag.py  \n",
       "300627        airflow/serialization/serialized_objects.py  \n",
       "300631    tests/providers/docker/operators/test_docker.py  \n",
       "300632       airflow/providers/docker/operators/docker.py  \n",
       "\n",
       "[299628 rows x 3 columns]"
      ]
     },
     "execution_count": 73,
     "metadata": {},
     "output_type": "execute_result"
    }
   ],
   "source": [
    "commits_df = commits_df[commits_df[\"path\"] != commits_df[\"path_other\"]]\n",
    "commits_df"
   ]
  },
  {
   "cell_type": "code",
   "execution_count": 74,
   "metadata": {},
   "outputs": [
    {
     "data": {
      "text/html": [
       "<div>\n",
       "<style scoped>\n",
       "    .dataframe tbody tr th:only-of-type {\n",
       "        vertical-align: middle;\n",
       "    }\n",
       "\n",
       "    .dataframe tbody tr th {\n",
       "        vertical-align: top;\n",
       "    }\n",
       "\n",
       "    .dataframe thead th {\n",
       "        text-align: right;\n",
       "    }\n",
       "</style>\n",
       "<table border=\"1\" class=\"dataframe\">\n",
       "  <thead>\n",
       "    <tr style=\"text-align: right;\">\n",
       "      <th></th>\n",
       "      <th></th>\n",
       "      <th>sha</th>\n",
       "    </tr>\n",
       "    <tr>\n",
       "      <th>path</th>\n",
       "      <th>path_other</th>\n",
       "      <th></th>\n",
       "    </tr>\n",
       "  </thead>\n",
       "  <tbody>\n",
       "    <tr>\n",
       "      <th rowspan=\"5\" valign=\"top\">airflow/api/common/experimental/get_code.py</th>\n",
       "      <th>airflow/api/common/experimental/pool.py</th>\n",
       "      <td>1</td>\n",
       "    </tr>\n",
       "    <tr>\n",
       "      <th>airflow/api_connexion/endpoints/connection_endpoint.py</th>\n",
       "      <td>1</td>\n",
       "    </tr>\n",
       "    <tr>\n",
       "      <th>airflow/cli/commands/dag_command.py</th>\n",
       "      <td>1</td>\n",
       "    </tr>\n",
       "    <tr>\n",
       "      <th>airflow/cli/commands/task_command.py</th>\n",
       "      <td>1</td>\n",
       "    </tr>\n",
       "    <tr>\n",
       "      <th>airflow/cli/commands/user_command.py</th>\n",
       "      <td>1</td>\n",
       "    </tr>\n",
       "    <tr>\n",
       "      <th>...</th>\n",
       "      <th>...</th>\n",
       "      <td>...</td>\n",
       "    </tr>\n",
       "    <tr>\n",
       "      <th rowspan=\"5\" valign=\"top\">tests/www/test_views.py</th>\n",
       "      <th>tests/www/test_app.py</th>\n",
       "      <td>1</td>\n",
       "    </tr>\n",
       "    <tr>\n",
       "      <th>tests/www/test_init_views.py</th>\n",
       "      <td>1</td>\n",
       "    </tr>\n",
       "    <tr>\n",
       "      <th>tests/www/test_security.py</th>\n",
       "      <td>2</td>\n",
       "    </tr>\n",
       "    <tr>\n",
       "      <th>tests/www/test_utils.py</th>\n",
       "      <td>1</td>\n",
       "    </tr>\n",
       "    <tr>\n",
       "      <th>tests/www/test_validators.py</th>\n",
       "      <td>1</td>\n",
       "    </tr>\n",
       "  </tbody>\n",
       "</table>\n",
       "<p>298490 rows × 1 columns</p>\n",
       "</div>"
      ],
      "text/plain": [
       "                                                                                                sha\n",
       "path                                        path_other                                             \n",
       "airflow/api/common/experimental/get_code.py airflow/api/common/experimental/pool.py               1\n",
       "                                            airflow/api_connexion/endpoints/connection_endp...    1\n",
       "                                            airflow/cli/commands/dag_command.py                   1\n",
       "                                            airflow/cli/commands/task_command.py                  1\n",
       "                                            airflow/cli/commands/user_command.py                  1\n",
       "...                                                                                             ...\n",
       "tests/www/test_views.py                     tests/www/test_app.py                                 1\n",
       "                                            tests/www/test_init_views.py                          1\n",
       "                                            tests/www/test_security.py                            2\n",
       "                                            tests/www/test_utils.py                               1\n",
       "                                            tests/www/test_validators.py                          1\n",
       "\n",
       "[298490 rows x 1 columns]"
      ]
     },
     "execution_count": 74,
     "metadata": {},
     "output_type": "execute_result"
    }
   ],
   "source": [
    "commit_coupling = commits_df.groupby([\"path\", \"path_other\"]).count()\n",
    "commit_coupling"
   ]
  },
  {
   "cell_type": "code",
   "execution_count": 75,
   "metadata": {},
   "outputs": [
    {
     "data": {
      "text/html": [
       "<div>\n",
       "<style scoped>\n",
       "    .dataframe tbody tr th:only-of-type {\n",
       "        vertical-align: middle;\n",
       "    }\n",
       "\n",
       "    .dataframe tbody tr th {\n",
       "        vertical-align: top;\n",
       "    }\n",
       "\n",
       "    .dataframe thead th {\n",
       "        text-align: right;\n",
       "    }\n",
       "</style>\n",
       "<table border=\"1\" class=\"dataframe\">\n",
       "  <thead>\n",
       "    <tr style=\"text-align: right;\">\n",
       "      <th></th>\n",
       "      <th></th>\n",
       "      <th>sha</th>\n",
       "      <th>all_changes</th>\n",
       "    </tr>\n",
       "    <tr>\n",
       "      <th>path</th>\n",
       "      <th>path_other</th>\n",
       "      <th></th>\n",
       "      <th></th>\n",
       "    </tr>\n",
       "  </thead>\n",
       "  <tbody>\n",
       "    <tr>\n",
       "      <th rowspan=\"5\" valign=\"top\">airflow/api/common/experimental/get_code.py</th>\n",
       "      <th>airflow/api/common/experimental/pool.py</th>\n",
       "      <td>1</td>\n",
       "      <td>128</td>\n",
       "    </tr>\n",
       "    <tr>\n",
       "      <th>airflow/api_connexion/endpoints/connection_endpoint.py</th>\n",
       "      <td>1</td>\n",
       "      <td>128</td>\n",
       "    </tr>\n",
       "    <tr>\n",
       "      <th>airflow/cli/commands/dag_command.py</th>\n",
       "      <td>1</td>\n",
       "      <td>128</td>\n",
       "    </tr>\n",
       "    <tr>\n",
       "      <th>airflow/cli/commands/task_command.py</th>\n",
       "      <td>1</td>\n",
       "      <td>128</td>\n",
       "    </tr>\n",
       "    <tr>\n",
       "      <th>airflow/cli/commands/user_command.py</th>\n",
       "      <td>1</td>\n",
       "      <td>128</td>\n",
       "    </tr>\n",
       "    <tr>\n",
       "      <th>...</th>\n",
       "      <th>...</th>\n",
       "      <td>...</td>\n",
       "      <td>...</td>\n",
       "    </tr>\n",
       "    <tr>\n",
       "      <th rowspan=\"5\" valign=\"top\">tests/www/test_views.py</th>\n",
       "      <th>tests/www/test_app.py</th>\n",
       "      <td>1</td>\n",
       "      <td>662</td>\n",
       "    </tr>\n",
       "    <tr>\n",
       "      <th>tests/www/test_init_views.py</th>\n",
       "      <td>1</td>\n",
       "      <td>662</td>\n",
       "    </tr>\n",
       "    <tr>\n",
       "      <th>tests/www/test_security.py</th>\n",
       "      <td>2</td>\n",
       "      <td>662</td>\n",
       "    </tr>\n",
       "    <tr>\n",
       "      <th>tests/www/test_utils.py</th>\n",
       "      <td>1</td>\n",
       "      <td>662</td>\n",
       "    </tr>\n",
       "    <tr>\n",
       "      <th>tests/www/test_validators.py</th>\n",
       "      <td>1</td>\n",
       "      <td>662</td>\n",
       "    </tr>\n",
       "  </tbody>\n",
       "</table>\n",
       "<p>298490 rows × 2 columns</p>\n",
       "</div>"
      ],
      "text/plain": [
       "                                                                                                sha  \\\n",
       "path                                        path_other                                                \n",
       "airflow/api/common/experimental/get_code.py airflow/api/common/experimental/pool.py               1   \n",
       "                                            airflow/api_connexion/endpoints/connection_endp...    1   \n",
       "                                            airflow/cli/commands/dag_command.py                   1   \n",
       "                                            airflow/cli/commands/task_command.py                  1   \n",
       "                                            airflow/cli/commands/user_command.py                  1   \n",
       "...                                                                                             ...   \n",
       "tests/www/test_views.py                     tests/www/test_app.py                                 1   \n",
       "                                            tests/www/test_init_views.py                          1   \n",
       "                                            tests/www/test_security.py                            2   \n",
       "                                            tests/www/test_utils.py                               1   \n",
       "                                            tests/www/test_validators.py                          1   \n",
       "\n",
       "                                                                                                all_changes  \n",
       "path                                        path_other                                                       \n",
       "airflow/api/common/experimental/get_code.py airflow/api/common/experimental/pool.py                     128  \n",
       "                                            airflow/api_connexion/endpoints/connection_endp...          128  \n",
       "                                            airflow/cli/commands/dag_command.py                         128  \n",
       "                                            airflow/cli/commands/task_command.py                        128  \n",
       "                                            airflow/cli/commands/user_command.py                        128  \n",
       "...                                                                                                     ...  \n",
       "tests/www/test_views.py                     tests/www/test_app.py                                       662  \n",
       "                                            tests/www/test_init_views.py                                662  \n",
       "                                            tests/www/test_security.py                                  662  \n",
       "                                            tests/www/test_utils.py                                     662  \n",
       "                                            tests/www/test_validators.py                                662  \n",
       "\n",
       "[298490 rows x 2 columns]"
      ]
     },
     "execution_count": 75,
     "metadata": {},
     "output_type": "execute_result"
    }
   ],
   "source": [
    "commit_coupling['all_changes'] = commit_coupling.groupby([\"path\"]).sha.transform('sum')\n",
    "commit_coupling"
   ]
  },
  {
   "cell_type": "code",
   "execution_count": 76,
   "metadata": {},
   "outputs": [
    {
     "data": {
      "text/html": [
       "<div>\n",
       "<style scoped>\n",
       "    .dataframe tbody tr th:only-of-type {\n",
       "        vertical-align: middle;\n",
       "    }\n",
       "\n",
       "    .dataframe tbody tr th {\n",
       "        vertical-align: top;\n",
       "    }\n",
       "\n",
       "    .dataframe thead th {\n",
       "        text-align: right;\n",
       "    }\n",
       "</style>\n",
       "<table border=\"1\" class=\"dataframe\">\n",
       "  <thead>\n",
       "    <tr style=\"text-align: right;\">\n",
       "      <th></th>\n",
       "      <th></th>\n",
       "      <th>cochanging</th>\n",
       "      <th>all_changes</th>\n",
       "      <th>ratio</th>\n",
       "    </tr>\n",
       "    <tr>\n",
       "      <th>path</th>\n",
       "      <th>path_other</th>\n",
       "      <th></th>\n",
       "      <th></th>\n",
       "      <th></th>\n",
       "    </tr>\n",
       "  </thead>\n",
       "  <tbody>\n",
       "    <tr>\n",
       "      <th rowspan=\"5\" valign=\"top\">airflow/api/common/experimental/get_code.py</th>\n",
       "      <th>airflow/api/common/experimental/pool.py</th>\n",
       "      <td>1</td>\n",
       "      <td>128</td>\n",
       "      <td>0.007812</td>\n",
       "    </tr>\n",
       "    <tr>\n",
       "      <th>airflow/api_connexion/endpoints/connection_endpoint.py</th>\n",
       "      <td>1</td>\n",
       "      <td>128</td>\n",
       "      <td>0.007812</td>\n",
       "    </tr>\n",
       "    <tr>\n",
       "      <th>airflow/cli/commands/dag_command.py</th>\n",
       "      <td>1</td>\n",
       "      <td>128</td>\n",
       "      <td>0.007812</td>\n",
       "    </tr>\n",
       "    <tr>\n",
       "      <th>airflow/cli/commands/task_command.py</th>\n",
       "      <td>1</td>\n",
       "      <td>128</td>\n",
       "      <td>0.007812</td>\n",
       "    </tr>\n",
       "    <tr>\n",
       "      <th>airflow/cli/commands/user_command.py</th>\n",
       "      <td>1</td>\n",
       "      <td>128</td>\n",
       "      <td>0.007812</td>\n",
       "    </tr>\n",
       "    <tr>\n",
       "      <th>...</th>\n",
       "      <th>...</th>\n",
       "      <td>...</td>\n",
       "      <td>...</td>\n",
       "      <td>...</td>\n",
       "    </tr>\n",
       "    <tr>\n",
       "      <th rowspan=\"5\" valign=\"top\">tests/www/test_views.py</th>\n",
       "      <th>tests/www/test_app.py</th>\n",
       "      <td>1</td>\n",
       "      <td>662</td>\n",
       "      <td>0.001511</td>\n",
       "    </tr>\n",
       "    <tr>\n",
       "      <th>tests/www/test_init_views.py</th>\n",
       "      <td>1</td>\n",
       "      <td>662</td>\n",
       "      <td>0.001511</td>\n",
       "    </tr>\n",
       "    <tr>\n",
       "      <th>tests/www/test_security.py</th>\n",
       "      <td>2</td>\n",
       "      <td>662</td>\n",
       "      <td>0.003021</td>\n",
       "    </tr>\n",
       "    <tr>\n",
       "      <th>tests/www/test_utils.py</th>\n",
       "      <td>1</td>\n",
       "      <td>662</td>\n",
       "      <td>0.001511</td>\n",
       "    </tr>\n",
       "    <tr>\n",
       "      <th>tests/www/test_validators.py</th>\n",
       "      <td>1</td>\n",
       "      <td>662</td>\n",
       "      <td>0.001511</td>\n",
       "    </tr>\n",
       "  </tbody>\n",
       "</table>\n",
       "<p>298490 rows × 3 columns</p>\n",
       "</div>"
      ],
      "text/plain": [
       "                                                                                                cochanging  \\\n",
       "path                                        path_other                                                       \n",
       "airflow/api/common/experimental/get_code.py airflow/api/common/experimental/pool.py                      1   \n",
       "                                            airflow/api_connexion/endpoints/connection_endp...           1   \n",
       "                                            airflow/cli/commands/dag_command.py                          1   \n",
       "                                            airflow/cli/commands/task_command.py                         1   \n",
       "                                            airflow/cli/commands/user_command.py                         1   \n",
       "...                                                                                                    ...   \n",
       "tests/www/test_views.py                     tests/www/test_app.py                                        1   \n",
       "                                            tests/www/test_init_views.py                                 1   \n",
       "                                            tests/www/test_security.py                                   2   \n",
       "                                            tests/www/test_utils.py                                      1   \n",
       "                                            tests/www/test_validators.py                                 1   \n",
       "\n",
       "                                                                                                all_changes  \\\n",
       "path                                        path_other                                                        \n",
       "airflow/api/common/experimental/get_code.py airflow/api/common/experimental/pool.py                     128   \n",
       "                                            airflow/api_connexion/endpoints/connection_endp...          128   \n",
       "                                            airflow/cli/commands/dag_command.py                         128   \n",
       "                                            airflow/cli/commands/task_command.py                        128   \n",
       "                                            airflow/cli/commands/user_command.py                        128   \n",
       "...                                                                                                     ...   \n",
       "tests/www/test_views.py                     tests/www/test_app.py                                       662   \n",
       "                                            tests/www/test_init_views.py                                662   \n",
       "                                            tests/www/test_security.py                                  662   \n",
       "                                            tests/www/test_utils.py                                     662   \n",
       "                                            tests/www/test_validators.py                                662   \n",
       "\n",
       "                                                                                                   ratio  \n",
       "path                                        path_other                                                    \n",
       "airflow/api/common/experimental/get_code.py airflow/api/common/experimental/pool.py             0.007812  \n",
       "                                            airflow/api_connexion/endpoints/connection_endp...  0.007812  \n",
       "                                            airflow/cli/commands/dag_command.py                 0.007812  \n",
       "                                            airflow/cli/commands/task_command.py                0.007812  \n",
       "                                            airflow/cli/commands/user_command.py                0.007812  \n",
       "...                                                                                                  ...  \n",
       "tests/www/test_views.py                     tests/www/test_app.py                               0.001511  \n",
       "                                            tests/www/test_init_views.py                        0.001511  \n",
       "                                            tests/www/test_security.py                          0.003021  \n",
       "                                            tests/www/test_utils.py                             0.001511  \n",
       "                                            tests/www/test_validators.py                        0.001511  \n",
       "\n",
       "[298490 rows x 3 columns]"
      ]
     },
     "execution_count": 76,
     "metadata": {},
     "output_type": "execute_result"
    }
   ],
   "source": [
    "commit_coupling[\"ratio\"] = commit_coupling[\"sha\"] / commit_coupling[\"all_changes\"]\n",
    "commit_coupling.reset_index().sort_values(by=[\"ratio\", \"path\"], ascending=False, inplace=True)\n",
    "commit_coupling.rename(columns={\"sha\" : \"cochanging\"}, inplace=True)\n",
    "commit_coupling"
   ]
  },
  {
   "cell_type": "code",
   "execution_count": 77,
   "metadata": {},
   "outputs": [
    {
     "data": {
      "text/plain": [
       "4"
      ]
     },
     "execution_count": 77,
     "metadata": {},
     "output_type": "execute_result"
    }
   ],
   "source": [
    "commit_coupling.cochanging.max()"
   ]
  },
  {
   "cell_type": "markdown",
   "metadata": {},
   "source": [
    "----------------------------------------------------------------\n",
    "\n",
    "\n",
    "# Your turn!\n",
    "\n",
    "![](http://giphygifs.s3.amazonaws.com/media/11M1k4fIwVqPF6/giphy.gif)\n",
    "\n",
    "Chose one or more software systems that are under version control with Git.\n",
    "\n",
    "Use the version history as done during class (if you want to in combination with the provided Python scripts) to analyze VCS history according to one of the small projects below.\n",
    "\n",
    "Base your analysis on the file `<your_system>_evo.log.csv` that you can create similar to the examples above like:\n",
    "\n",
    "```bash\n",
    "git clone <url to>/<your_system>.git\n",
    "\n",
    "git -C <your_system>/ log --pretty=format:'\"%h\",\"%an\",\"%ad\"' \\\n",
    "    --date=short \\\n",
    "    --numstat > \\\n",
    "    data/<your_system>_evo.log\n",
    "\n",
    "python evo_log_to_csv.py data/<your_system>_evo.log\n",
    "python repair_git_move.py data/<your_system>_evo.log.csv\n",
    "```\n",
    "\n",
    "You can implement your analysis in the languages and with technologies of your choice. (Likely your favorite scripting language comes in handy here.)\n",
    "\n",
    "If you do not like the shell-based analysis that relies on Git logs, you may want to consider tools, such as, [PyDriller](https://github.com/ishepard/pydriller), which provide a more high-level API for many of the actions presented in this class.\n",
    "\n",
    "\n",
    "\n",
    "I suggest that you could work on one of the following problems:\n",
    "\n",
    "\n",
    "### A) Can you suggest a team structure for a project?\n",
    "\n",
    "Persons who work often on the same artifacts should perhaps work physically together and not be distributed around the globe, see e.g., [M. Penta et al. _The Effect of Communication Overhead on Software Maintenance Project Staffing: a Search-Based Approach_](http://crest.cs.ucl.ac.uk/fileadmin/crest/sebasepaper/DiPentaHAQ07.pdf) and N. Nagappan et al. [_The Influence of Organizational Structure on Software Quality_](https://www.microsoft.com/en-us/research/wp-content/uploads/2016/02/tr-2008-11.pdf).\n",
    "\n",
    "Write a script/program that suggests teams of size five to ten persons.\n",
    "\n",
    "Find a suitable categorization for all persons that rarely contribute to a project.\n",
    "\n",
    "Chapters 11-13 in A. Tornhill _Your Code as a Crime Scene_ will likely form a good basis for the task.\n",
    "\n",
    "\n",
    "### B) Hotspot Analysis\n",
    "\n",
    "Based on A. Tornhill _Your Code as a Crime Scene_ chapters 3-5, write a script/program that identifies and visualizes hotspots (often changing and complex artifacts)\n",
    "\n",
    "You can make use of [`cloc`](https://github.com/AlDanial/cloc) (installed into this VM) to compute the size (proxy for complexity) of a file:\n",
    "\n",
    "```bash\n",
    "./cloc --csv --by-file airflow\n",
    "```\n",
    "\n",
    "Alternatively, you can write another small script that computes the whitespace complexity of a file, as in chapter 6\n",
    "\n",
    "### C) Change TF Code Ownership Metric\n",
    "\n",
    "Change the above implementation of the Truck Factor metric so that it uses an ownership metric as suggested by Bird et al. That is, do not rely on the number of added lines but instead the number of changes (commits) of files.\n",
    "\n",
    "How do the resulting Truck Factor values change? Shall we use one ownership metric over the other?\n",
    "\n",
    "\n",
    "\n",
    "<!--\n",
    "### C) Architectural Decay\n",
    "\n",
    "Investigate potential architectural decay based on measures for temporal coupling chapters 7-8 (and 9-10) in A. Tornhill _Your Code as a Crime Scene_.\n",
    "\n",
    "Write a script/program that suggests artifacts that seem to be prone to architectural decay when their temporal couples increase drastically over an analysis period.\n",
    "-->\n",
    "\n",
    "\n",
    "\n",
    "### D) Reproduce Paper Results\n",
    "\n",
    "Take the initial paper from https://peerj.com/preprints/1233.pdf and the final version <a href=\"https://ieeexplore.ieee.org/stamp)/stamp.jsp?arnumber=7503718\">G. Avelino et al. _A novel approach for estimating Truck Factors_</a>. Download the given repositories, implement a computation of ownership as described in the papers, and finally compare how the bus-factors developed since the papers were published to now.\n",
    "\n",
    "You will find their tool implementation on Github: [https://github.com/aserg-ufmg/Truck-Factor](https://github.com/aserg-ufmg/Truck-Factor)\n",
    "\n",
    "### E) Relationships of Contributors and Components\n",
    "\n",
    "Bird et al. have the hypothesis that:\n",
    "\n",
    "  > Minor contributors to components will be Major contributors to other components that are related through dependency relationships\n",
    "  \n",
    "Does that hold for open-source projects too? Think about a simple definition of \"component\" that allows you to generate results quickly.\n",
    "\n",
    "### E) Freestyle\n",
    "\n",
    "Formulate a problem that you want to investigate based on the history of a VCS. An example for such a problem formulation could be:\n",
    "  \n",
    "  * Can we find a relation between sentiments in commit messages and complexity of the files in the commit?\n",
    "\n",
    "Write a script/program that implements the analysis for the given problem and generates suitable result data or plots.\n",
    "\n",
    "\n",
    "\n",
    "<!--\n",
    "## Formalities\n",
    "\n",
    "  * Chose a project now and work on it for the rest of today's session.\n",
    "-->\n",
    "<!--  * I will be there for the session on Thursday to help with practicalities. -->\n",
    "<!--\n",
    "* Prepare a small presentation of your results and findings for next Monday. We will start the session with a small presentation per group.\n",
    "  -->\n"
   ]
  },
  {
   "cell_type": "markdown",
   "metadata": {},
   "source": [
    "# I do not have Linux on my computer...\n",
    "\n",
    "All of the scripts and advise in this material assumes that you are working on a Linux/Unix environment. In case you are on Windows, there are many different ways of setting up such an environment. You can find a guide on setting up virtual machines with -amongst others- Ubuntu Linux here: http://itu.dk/people/ropf/blog/vagrant_install.html. I recommend that you setup such an environment as you as software engineers should be comfortable and able to work in various environments depending on the needs of your future companies/clients.\n",
    "\n",
    "For small analysis that do not require a lot of resources, you might want to fork and adapt this repository, so that you can run your code on mybinder."
   ]
  }
 ],
 "metadata": {
  "kernelspec": {
   "display_name": "Python 3 (ipykernel)",
   "language": "python",
   "name": "python3"
  },
  "language_info": {
   "codemirror_mode": {
    "name": "ipython",
    "version": 3
   },
   "file_extension": ".py",
   "mimetype": "text/x-python",
   "name": "python",
   "nbconvert_exporter": "python",
   "pygments_lexer": "ipython3",
   "version": "3.9.12"
  }
 },
 "nbformat": 4,
 "nbformat_minor": 2
}
